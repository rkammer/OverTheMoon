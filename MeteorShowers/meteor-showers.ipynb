{
    "metadata": {
        "kernelspec": {
            "name": "python3",
            "display_name": "Python 3",
            "language": "python"
        },
        "language_info": {
            "name": "python",
            "version": "3.6.6",
            "mimetype": "text/x-python",
            "codemirror_mode": {
                "name": "ipython",
                "version": 3
            },
            "pygments_lexer": "ipython3",
            "nbconvert_exporter": "python",
            "file_extension": ".py"
        }
    },
    "nbformat_minor": 2,
    "nbformat": 4,
    "cells": [
        {
            "cell_type": "markdown",
            "source": [
                "![alt text](../img/explore-space-using-python.svg \"Over the moon\")\r\n",
                "# Predict meteor showers by using Python and Visual Studio Code\r\n",
                "\r\n",
                "In this module, you will:\r\n",
                "\r\n",
                "* The basics of meteor showers: what they are and why we see them\r\n",
                "* How to choose and collect appropriate data\r\n",
                "* Strategies to cleanse and manipulate your data\r\n",
                "\r\n",
                "It's important to identify the kind of data that we want to find. We know a few things:\r\n",
                "\r\n",
                "* Meteor showers are typically caused by meteoroids that melt off of comets.\r\n",
                "* Comets have an orbit around the sun that's observable and predictable.\r\n",
                "* A bright Moon makes a meteor shower harder to see.\r\n",
                "* The orbit and spin of Earth affects where a meteor shower can be seen from Earth.\r\n",
                "\r\n",
                "Although meteoroids can come from comets, asteroids, moons, and planets, this module focuses on meteoroids that come from popular comets.\r\n",
                "\r\n",
                "## Load Libraries\r\n",
                ""
            ],
            "metadata": {
                "azdata_cell_guid": "6110d2b9-d430-4203-9a17-7faf37dc35b4"
            }
        },
        {
            "cell_type": "code",
            "source": [
                "import numpy as np\r\n",
                "import pandas as pd"
            ],
            "metadata": {
                "azdata_cell_guid": "7c2c39b8-9ff0-4533-96e0-36cd1046f501"
            },
            "outputs": [],
            "execution_count": 46
        },
        {
            "cell_type": "markdown",
            "source": [
                "## Import Data"
            ],
            "metadata": {
                "azdata_cell_guid": "d0072219-36f2-4788-abf4-6284f3755fa8"
            }
        },
        {
            "cell_type": "code",
            "source": [
                "meteor_showers = pd.read_csv('data/meteorshowers.csv')\r\n",
                "moon_phases    = pd.read_csv('data/moonphases.csv')\r\n",
                "constellations = pd.read_csv('data/constellations.csv')\r\n",
                "cities         = pd.read_csv('data/cities.csv')"
            ],
            "metadata": {
                "azdata_cell_guid": "9914ee2d-ce3e-4b3c-a7a5-c499e50a2b5f"
            },
            "outputs": [],
            "execution_count": 47
        },
        {
            "cell_type": "markdown",
            "source": [
                "## Appending to dataframes\r\n",
                "\r\n",
                "We know that Fei Fei travels to Lunaria after the Moon Festival. Though we don't know exactly how long it takes her to prototype, test, and build a rocket to the Moon, we can make a guess.\r\n",
                "\r\n",
                "The 2020 Chinese Moon Festival was on October 1. Because the rest of the dates that we use in this module are from 2020, let's use that date.\r\n",
                "\r\n",
                "We need data for each of the DataFrames that we reference. So let's start with the meteor shower in the film. For Chang'e's meteor shower, let's choose the Draco constellation because it's where the Draconids meteor shower is likely to radiate from in early October. We'll use that meteor shower as inspiration for our fictional one:"
            ],
            "metadata": {
                "azdata_cell_guid": "bdedcdb9-c641-4065-8e7b-45419231a6ea"
            }
        },
        {
            "cell_type": "code",
            "source": [
                "change_meteor_shower = {\r\n",
                "    'name'               : 'Chang\\'e',\r\n",
                "    'radiant'            : 'Draco',\r\n",
                "    'bestmonth'          : 'october',\r\n",
                "    'startmonth'         : 'october',\r\n",
                "    'startday'           : 1,\r\n",
                "    'endmonth'           : 'october',\r\n",
                "    'endday'             : 31,\r\n",
                "    'hemisphere'         : 'northern',\r\n",
                "    'preferredhemisphere':'northern'\r\n",
                "}\r\n",
                "\r\n",
                "meteor_showers = meteor_showers.append(change_meteor_shower, ignore_index=True)"
            ],
            "metadata": {
                "azdata_cell_guid": "0af2d9a4-fdce-4b99-96a8-a9d633f18d92"
            },
            "outputs": [],
            "execution_count": 48
        },
        {
            "cell_type": "code",
            "source": [
                "draco_constellation = {\r\n",
                "    'constellation' : 'Draco',\r\n",
                "    'bestmonth'     : 'july',\r\n",
                "    'latitudestart' : 90,\r\n",
                "    'latitudeend'   : -15,\r\n",
                "    'besttime'      : 2100,\r\n",
                "    'hemisphere'    : 'northern'\r\n",
                "}\r\n",
                "\r\n",
                "constellations = constellations.append(draco_constellation, ignore_index=True)"
            ],
            "metadata": {
                "azdata_cell_guid": "ad9e8a30-95e8-4072-a93f-2aa4c0502700"
            },
            "outputs": [],
            "execution_count": 49
        },
        {
            "cell_type": "markdown",
            "source": [
                "## Convert to Numbers\r\n",
                "Some data makes sense as strings, like city names or meteor shower names. But other data makes more sense as integers, like months or Moon phases"
            ],
            "metadata": {
                "azdata_cell_guid": "aed2f611-ac64-4f76-a50e-14c6700eb1b9"
            }
        },
        {
            "cell_type": "code",
            "source": [
                "months = {\r\n",
                "    'january'   : 1, \r\n",
                "    'february'  : 2, \r\n",
                "    'march'     : 3, \r\n",
                "    'april'     : 4, \r\n",
                "    'may'       : 5,\r\n",
                "    'june'      : 6, \r\n",
                "    'july'      : 7, \r\n",
                "    'august'    : 8, \r\n",
                "    'september' : 9, \r\n",
                "    'october'   : 10, \r\n",
                "    'november'  : 11, \r\n",
                "    'december'  : 12\r\n",
                "}\r\n",
                "\r\n",
                "meteor_showers.bestmonth  = meteor_showers.bestmonth.map(months)\r\n",
                "meteor_showers.startmonth = meteor_showers.startmonth.map(months)\r\n",
                "meteor_showers.endmonth   = meteor_showers.endmonth.map(months)\r\n",
                "moon_phases.month         = moon_phases.month.map(months)\r\n",
                "constellations.bestmonth  = constellations.bestmonth.map(months)\r\n",
                "\r\n",
                "meteor_showers.head()"
            ],
            "metadata": {
                "azdata_cell_guid": "04b13d21-82b3-47a0-a5eb-60c9cfb9aef0"
            },
            "outputs": [
                {
                    "data": {
                        "text/plain": "           name   radiant  bestmonth  startmonth  startday  endmonth  endday  \\\n0        Lyrids      Lyra          4           4        21         4      22   \n1  Eta Aquarids  Aquarius          5           4        19         5      28   \n2      Orionids     Orion         10          10         2        11       7   \n3      Perseids   Perseus          8           7        14         8      24   \n4       Leonids       Leo         11          11         6        11      30   \n\n           hemisphere preferredhemisphere  \n0            northern            northern  \n1  northern, southern            southern  \n2  northern, southern  northern, southern  \n3            northern            northern  \n4  northern, southern  northern, southern  ",
                        "text/html": "<div>\n<style scoped>\n    .dataframe tbody tr th:only-of-type {\n        vertical-align: middle;\n    }\n\n    .dataframe tbody tr th {\n        vertical-align: top;\n    }\n\n    .dataframe thead th {\n        text-align: right;\n    }\n</style>\n<table border=\"1\" class=\"dataframe\">\n  <thead>\n    <tr style=\"text-align: right;\">\n      <th></th>\n      <th>name</th>\n      <th>radiant</th>\n      <th>bestmonth</th>\n      <th>startmonth</th>\n      <th>startday</th>\n      <th>endmonth</th>\n      <th>endday</th>\n      <th>hemisphere</th>\n      <th>preferredhemisphere</th>\n    </tr>\n  </thead>\n  <tbody>\n    <tr>\n      <th>0</th>\n      <td>Lyrids</td>\n      <td>Lyra</td>\n      <td>4</td>\n      <td>4</td>\n      <td>21</td>\n      <td>4</td>\n      <td>22</td>\n      <td>northern</td>\n      <td>northern</td>\n    </tr>\n    <tr>\n      <th>1</th>\n      <td>Eta Aquarids</td>\n      <td>Aquarius</td>\n      <td>5</td>\n      <td>4</td>\n      <td>19</td>\n      <td>5</td>\n      <td>28</td>\n      <td>northern, southern</td>\n      <td>southern</td>\n    </tr>\n    <tr>\n      <th>2</th>\n      <td>Orionids</td>\n      <td>Orion</td>\n      <td>10</td>\n      <td>10</td>\n      <td>2</td>\n      <td>11</td>\n      <td>7</td>\n      <td>northern, southern</td>\n      <td>northern, southern</td>\n    </tr>\n    <tr>\n      <th>3</th>\n      <td>Perseids</td>\n      <td>Perseus</td>\n      <td>8</td>\n      <td>7</td>\n      <td>14</td>\n      <td>8</td>\n      <td>24</td>\n      <td>northern</td>\n      <td>northern</td>\n    </tr>\n    <tr>\n      <th>4</th>\n      <td>Leonids</td>\n      <td>Leo</td>\n      <td>11</td>\n      <td>11</td>\n      <td>6</td>\n      <td>11</td>\n      <td>30</td>\n      <td>northern, southern</td>\n      <td>northern, southern</td>\n    </tr>\n  </tbody>\n</table>\n</div>"
                    },
                    "metadata": {},
                    "execution_count": 50,
                    "output_type": "execute_result"
                }
            ],
            "execution_count": 50
        },
        {
            "cell_type": "markdown",
            "source": [
                "# Converting days to datetime"
            ],
            "metadata": {
                "azdata_cell_guid": "414ecb3b-8592-4535-848f-284a75d3f1a4"
            }
        },
        {
            "cell_type": "code",
            "source": [
                "meteor_showers['startdate'] = pd.to_datetime(2020 * 10000 + meteor_showers.startmonth *100 + meteor_showers.startday, format='%Y%m%d')\r\n",
                "meteor_showers['enddate']   = pd.to_datetime(2020 * 10000 + meteor_showers.endmonth   *100 + meteor_showers.endday,   format='%Y%m%d')\r\n",
                "\r\n",
                "moon_phases['date']         = pd.to_datetime(2020 * 10000 + moon_phases.month * 100 + moon_phases.day, format='%Y%m%d')"
            ],
            "metadata": {
                "azdata_cell_guid": "63ef2178-8a15-4055-8307-e7e9ef7e8673"
            },
            "outputs": [],
            "execution_count": 51
        },
        {
            "cell_type": "markdown",
            "source": [
                "## Mapping Hemispheres"
            ],
            "metadata": {
                "azdata_cell_guid": "f3e8cf57-4924-44ea-9e9f-4b77e728a6c1"
            }
        },
        {
            "cell_type": "code",
            "source": [
                "hemispheres = {\r\n",
                "    'northern' : 0, \r\n",
                "    'southern' : 1, \r\n",
                "    'northern, southern' : 3\r\n",
                "}\r\n",
                "meteor_showers.hemisphere = meteor_showers.hemisphere.map(hemispheres)\r\n",
                "constellations.hemisphere = constellations.hemisphere.map(hemispheres)"
            ],
            "metadata": {
                "azdata_cell_guid": "567f4bed-0db5-45b2-bb10-234a966849a8"
            },
            "outputs": [],
            "execution_count": 52
        },
        {
            "cell_type": "markdown",
            "source": [
                "## Convert Moon Phases to Number\r\n",
                "Represent the percentage of the Moon that's visible"
            ],
            "metadata": {
                "azdata_cell_guid": "69a55ef0-aba0-49f3-9718-4bccab1e81b1"
            }
        },
        {
            "cell_type": "code",
            "source": [
                "phases = {\r\n",
                "    'new moon'      : 0,\r\n",
                "    'third quarter' : 0.5, \r\n",
                "    'first quarter' : 0.5,\r\n",
                "    'full moon'     : 1.0\r\n",
                "}\r\n",
                "moon_phases['percentage'] = moon_phases.moonphase.map(phases)\r\n",
                "moon_phases.head()"
            ],
            "metadata": {
                "azdata_cell_guid": "2e84b6dc-b883-4c46-869a-7de45b41bd38"
            },
            "outputs": [
                {
                    "data": {
                        "text/plain": "   month  day      moonphase specialevent       date  percentage\n0      1    1            NaN          NaN 2020-01-01         NaN\n1      1    2  first quarter          NaN 2020-01-02         0.5\n2      1    3            NaN          NaN 2020-01-03         NaN\n3      1    4            NaN          NaN 2020-01-04         NaN\n4      1    5            NaN          NaN 2020-01-05         NaN",
                        "text/html": "<div>\n<style scoped>\n    .dataframe tbody tr th:only-of-type {\n        vertical-align: middle;\n    }\n\n    .dataframe tbody tr th {\n        vertical-align: top;\n    }\n\n    .dataframe thead th {\n        text-align: right;\n    }\n</style>\n<table border=\"1\" class=\"dataframe\">\n  <thead>\n    <tr style=\"text-align: right;\">\n      <th></th>\n      <th>month</th>\n      <th>day</th>\n      <th>moonphase</th>\n      <th>specialevent</th>\n      <th>date</th>\n      <th>percentage</th>\n    </tr>\n  </thead>\n  <tbody>\n    <tr>\n      <th>0</th>\n      <td>1</td>\n      <td>1</td>\n      <td>NaN</td>\n      <td>NaN</td>\n      <td>2020-01-01</td>\n      <td>NaN</td>\n    </tr>\n    <tr>\n      <th>1</th>\n      <td>1</td>\n      <td>2</td>\n      <td>first quarter</td>\n      <td>NaN</td>\n      <td>2020-01-02</td>\n      <td>0.5</td>\n    </tr>\n    <tr>\n      <th>2</th>\n      <td>1</td>\n      <td>3</td>\n      <td>NaN</td>\n      <td>NaN</td>\n      <td>2020-01-03</td>\n      <td>NaN</td>\n    </tr>\n    <tr>\n      <th>3</th>\n      <td>1</td>\n      <td>4</td>\n      <td>NaN</td>\n      <td>NaN</td>\n      <td>2020-01-04</td>\n      <td>NaN</td>\n    </tr>\n    <tr>\n      <th>4</th>\n      <td>1</td>\n      <td>5</td>\n      <td>NaN</td>\n      <td>NaN</td>\n      <td>2020-01-05</td>\n      <td>NaN</td>\n    </tr>\n  </tbody>\n</table>\n</div>"
                    },
                    "metadata": {},
                    "execution_count": 53,
                    "output_type": "execute_result"
                }
            ],
            "execution_count": 53
        },
        {
            "cell_type": "markdown",
            "source": [
                "## Remove Unnecessary Columns"
            ],
            "metadata": {
                "azdata_cell_guid": "091d1f89-73b8-4ccc-85db-f08532aa6304"
            }
        },
        {
            "cell_type": "code",
            "source": [
                "meteor_showers = meteor_showers.drop([\r\n",
                "    'startmonth', \r\n",
                "    'startday', \r\n",
                "    'endmonth', \r\n",
                "    'endday', \r\n",
                "    'hemisphere'\r\n",
                "], axis=1)\r\n",
                "\r\n",
                "moon_phases = moon_phases.drop([\r\n",
                "    'month',\r\n",
                "    'day',\r\n",
                "    'moonphase',\r\n",
                "    'specialevent'\r\n",
                "], axis=1)\r\n",
                "\r\n",
                "constellations = constellations.drop(['besttime'], axis=1)"
            ],
            "metadata": {
                "azdata_cell_guid": "e86823f4-a275-4efe-8d59-87d2c1772c0c"
            },
            "outputs": [],
            "execution_count": 54
        },
        {
            "cell_type": "markdown",
            "source": [
                "## Missing Data\r\n",
                "moon_phases dataframe has many missing percentages.\r\n",
                "\r\n",
                "You see that the cycle of the Moon phases goes from 0 to 0.5 to 1 to 0.5 and then back to 0. So, you could conceivably make every value between 0 and 0.5 be 0.25. And you could make every value between 0.5 and 1 be 0.75.\r\n",
                "\r\n",
                "You could get more detailed by figuring out a more accurate percentage on your own:\r\n",
                "\r\n",
                "1. Import the math Python library\r\n",
                "1. Create a variable to save the last phase that you saw.\r\n",
                "1. Loop through each row and column in the moon_phases DataFrame.\r\n",
                "1. If the value in the percentage column of a row is nan (null), then replace it with the last phase that you saw.\r\n",
                "1. If the value isn't nan, then save the value as the last phase that you saw.\r\n",
                "1. Show the info for the moon_phases DataFrame:"
            ],
            "metadata": {
                "azdata_cell_guid": "cda5b6a4-11a5-4933-b3e0-6358eaa9cbd7"
            }
        },
        {
            "cell_type": "code",
            "source": [
                "moon_phases.info()"
            ],
            "metadata": {
                "azdata_cell_guid": "097b41fd-8e82-42ca-b675-d91e6ddeca59"
            },
            "outputs": [
                {
                    "name": "stdout",
                    "text": "<class 'pandas.core.frame.DataFrame'>\nRangeIndex: 366 entries, 0 to 365\nData columns (total 2 columns):\ndate          366 non-null datetime64[ns]\npercentage    50 non-null float64\ndtypes: datetime64[ns](1), float64(1)\nmemory usage: 5.8 KB\n",
                    "output_type": "stream"
                }
            ],
            "execution_count": 55
        },
        {
            "cell_type": "code",
            "source": [
                "lastPhase = 0\r\n",
                "\r\n",
                "for index, row in moon_phases.iterrows():\r\n",
                "    if pd.isnull(row['percentage']):\r\n",
                "        moon_phases.at[index,'percentage'] = lastPhase\r\n",
                "    else:\r\n",
                "        lastPhase = row['percentage']\r\n",
                "\r\n",
                "moon_phases.info()"
            ],
            "metadata": {
                "azdata_cell_guid": "9917a6e0-8928-4389-8523-9b28bdd3f917"
            },
            "outputs": [
                {
                    "name": "stdout",
                    "text": "<class 'pandas.core.frame.DataFrame'>\nRangeIndex: 366 entries, 0 to 365\nData columns (total 2 columns):\ndate          366 non-null datetime64[ns]\npercentage    366 non-null float64\ndtypes: datetime64[ns](1), float64(1)\nmemory usage: 5.8 KB\n",
                    "output_type": "stream"
                }
            ],
            "execution_count": 56
        },
        {
            "cell_type": "markdown",
            "source": [
                "# Write a predictor function\r\n",
                "Now that you've cleaned up your datasets, you can begin to create a function that you'll use to make your prediction.\r\n",
                "\r\n",
                "But first, make sure you know exactly what you want to predict: In a given city, on what date would you most likely see which meteor showers?\r\n",
                "\r\n",
                "This module introduces a simplified way to examine data. Without using a lot of predictions, our method is a lot like a complex lookup table. You can later expand on the model with data like weather to make it more like a classical machine learning model.\r\n",
                "\r\n",
                "The function that we write needs to:\r\n",
                "\r\n",
                "1. Determine the latitude of a city.\r\n",
                "1. Use that latitude to figure out which constellations are visible to that city.\r\n",
                "1. Use the constellations to determine which meteor showers are visible to that city.\r\n",
                "1. Use the meteor showers to determine the dates that they're visible.\r\n",
                "1. Use the dates to find the optimal date that has the least amount of light from the Moon."
            ],
            "metadata": {
                "azdata_cell_guid": "eef92cd2-85c8-4eea-a18e-a4406292acea"
            }
        },
        {
            "cell_type": "code",
            "source": [
                "def predict_best_meteor_shower_viewing(city):\r\n",
                "     # Get the latitude of the city from the cities DataFrame\r\n",
                "    latitude = cities.loc[cities['city'] == city, 'latitude'].iloc[0]\r\n",
                "    return latitude"
            ],
            "metadata": {
                "azdata_cell_guid": "bcf94ac9-f7cb-4e25-b61c-72324d5a0fa4"
            },
            "outputs": [],
            "execution_count": 29
        },
        {
            "cell_type": "code",
            "source": [
                "print(predict_best_meteor_shower_viewing('Abu Dhabi'))"
            ],
            "metadata": {
                "azdata_cell_guid": "f3cda897-d407-4803-8371-7e7566604267"
            },
            "outputs": [
                {
                    "name": "stdout",
                    "text": "24.47\n",
                    "output_type": "stream"
                }
            ],
            "execution_count": 30
        },
        {
            "cell_type": "markdown",
            "source": [
                "## Use Latitude to determine constalation\r\n",
                "Now that we have a city latitude, the next step is to use the latitude to determine which constellations are viewable in the city.\r\n",
                "\r\n",
                "```\r\n",
                "constellation_list = constellations.loc[\r\n",
                "        (constellations['latitudestart'] >= latitude) & \r\n",
                "        (constellations['latitudeend']   <= latitude), \r\n",
                "        'constellation'].tolist()\r\n",
                "```\r\n",
                ""
            ],
            "metadata": {
                "azdata_cell_guid": "7a5398aa-5c5d-4474-b602-88b4a4a4ecde"
            }
        },
        {
            "cell_type": "code",
            "source": [
                "def predict_best_meteor_shower_viewing(city):\r\n",
                "     # Get the latitude of the city from the cities DataFrame\r\n",
                "    latitude = cities.loc[cities['city'] == city, 'latitude'].iloc[0]\r\n",
                "\r\n",
                "    # Get the list of constellations that are viewable from that latitude\r\n",
                "    constellation_list = constellations.loc[\r\n",
                "        (constellations['latitudestart'] >= latitude) & \r\n",
                "        (constellations['latitudeend']   <= latitude), \r\n",
                "        'constellation'].tolist()\r\n",
                "\r\n",
                "    return constellation_list"
            ],
            "metadata": {
                "azdata_cell_guid": "241d7da5-785a-4ade-9b18-3626f4cb67b0"
            },
            "outputs": [],
            "execution_count": 31
        },
        {
            "cell_type": "code",
            "source": [
                "print(predict_best_meteor_shower_viewing('Abu Dhabi'))"
            ],
            "metadata": {
                "azdata_cell_guid": "69c16fc9-0b52-45f1-bbaa-103ac8944612"
            },
            "outputs": [
                {
                    "name": "stdout",
                    "text": "['Lyra', 'Aquarius', 'Orion', 'Perseus']\n",
                    "output_type": "stream"
                }
            ],
            "execution_count": 32
        },
        {
            "cell_type": "markdown",
            "source": [
                "## Create Output String"
            ],
            "metadata": {
                "azdata_cell_guid": "dc52092a-d45b-4778-9388-41db2d9b2a66"
            }
        },
        {
            "cell_type": "code",
            "source": [
                "def predict_best_meteor_shower_viewing(city):\r\n",
                "    # Create an empty string to return the message back to the user\r\n",
                "    meteor_shower_string = \"\"\r\n",
                "\r\n",
                "    if city not in cities.values:\r\n",
                "        meteor_shower_string = f\"Unfortunately, {city} isn't available for a prediction at this time.\"\r\n",
                "        return meteor_shower_string\r\n",
                "\r\n",
                "     # Get the latitude of the city from the cities DataFrame\r\n",
                "    latitude = cities.loc[cities['city'] == city, 'latitude'].iloc[0]\r\n",
                "\r\n",
                "    # Get the list of constellations that are viewable from that latitude\r\n",
                "    constellation_list = constellations.loc[\r\n",
                "        (constellations['latitudestart'] >= latitude) & \r\n",
                "        (constellations['latitudeend']   <= latitude), \r\n",
                "        'constellation'].tolist()\r\n",
                "\r\n",
                "      # If no constellations are viewable, let the user know\r\n",
                "    if not constellation_list:\r\n",
                "        meteor_shower_string = f\"Unfortunately, there are no meteor showers viewable from {city}.\"\r\n",
                "        return meteor_shower_string\r\n",
                "\r\n",
                "    return constellation_list"
            ],
            "metadata": {
                "azdata_cell_guid": "378133e6-c692-43a9-a4ef-8b37ba192b70"
            },
            "outputs": [],
            "execution_count": 57
        },
        {
            "cell_type": "code",
            "source": [
                "print(predict_best_meteor_shower_viewing('Oxnard'))"
            ],
            "metadata": {
                "azdata_cell_guid": "18fc306d-ea1f-43cf-83ca-e8ab3c7a0622"
            },
            "outputs": [
                {
                    "name": "stdout",
                    "text": "Unfortunately, Oxnard isn't available for a prediction at this time.\n",
                    "output_type": "stream"
                }
            ],
            "execution_count": 58
        },
        {
            "cell_type": "markdown",
            "source": [
                "## Determine which meteor showers are visible\r\n",
                "\r\n",
                "Meteor showers are often associated with a constellation that's used to indicate where in the sky you should look for the meteor shower. So we can use these constellations to determine which meteor showers are visible.\r\n",
                "\r\n",
                "In any given city, you're likely to see multiple constellations. So for this next part, loop through each of the constellations that were found in the previous step."
            ],
            "metadata": {
                "azdata_cell_guid": "03030cab-0857-40b3-825b-d2ee11f6fef1"
            }
        },
        {
            "cell_type": "code",
            "source": [
                "def predict_best_meteor_shower_viewing(city):\r\n",
                "    # Create an empty string to return the message back to the user\r\n",
                "    meteor_shower_string = \"\"\r\n",
                "\r\n",
                "    if city not in cities.values:\r\n",
                "        meteor_shower_string = f\"Unfortunately, {city} isn't available for a prediction at this time.\"\r\n",
                "        return meteor_shower_string\r\n",
                "\r\n",
                "     # Get the latitude of the city from the cities DataFrame\r\n",
                "    latitude = cities.loc[cities['city'] == city, 'latitude'].iloc[0]\r\n",
                "\r\n",
                "    # Get the list of constellations that are viewable from that latitude\r\n",
                "    constellation_list = constellations.loc[\r\n",
                "        (constellations['latitudestart'] >= latitude) & \r\n",
                "        (constellations['latitudeend']   <= latitude), \r\n",
                "        'constellation'].tolist()\r\n",
                "\r\n",
                "      # If no constellations are viewable, let the user know\r\n",
                "    if not constellation_list:\r\n",
                "        meteor_shower_string = f\"Unfortunately, there are no meteor showers viewable from {city}.\"\r\n",
                "        return meteor_shower_string\r\n",
                "\r\n",
                "    meteor_shower_string = f\"In {city} you can see the following meteor showers:\\n\"\r\n",
                "\r\n",
                "    for constellation in constellation_list:\r\n",
                "        # Find the meteor shower that is nearest to that constellation\r\n",
                "        meteor_shower = meteor_showers.loc[meteor_showers['radiant'] == constellation, 'name'].iloc[0]\r\n",
                "\r\n",
                "        # Find the start and end dates for that meteor shower\r\n",
                "        meteor_shower_startdate = meteor_showers.loc[meteor_showers['radiant'] == constellation, 'startdate'].iloc[0]\r\n",
                "        meteor_shower_enddate   = meteor_showers.loc[meteor_showers['radiant'] == constellation, 'enddate'].iloc[0]\r\n",
                "\r\n",
                "        # Find the Moon phases for each date within the viewable time frame of that meteor shower\r\n",
                "        moon_phases_list = moon_phases.loc[(moon_phases['date'] >= meteor_shower_startdate) & (moon_phases['date'] <= meteor_shower_enddate)]\r\n",
                "\r\n",
                "        # Find the first date where the Moon is the least visible\r\n",
                "        best_moon_date = moon_phases_list.loc[moon_phases_list['percentage'].idxmin()]['date']\r\n",
                "\r\n",
                "        # Add that date to the string to report back to the user\r\n",
                "        meteor_shower_string += meteor_shower + \" is best seen if you look towards the \" + constellation + \" constellation on \" +  best_moon_date.to_pydatetime().strftime(\"%B %d, %Y\") + \".\\n\"\r\n",
                "\r\n",
                "    return meteor_shower_string"
            ],
            "metadata": {
                "azdata_cell_guid": "b9560bb6-5dbc-43ed-8cd3-2b549523990e"
            },
            "outputs": [],
            "execution_count": 59
        },
        {
            "cell_type": "code",
            "source": [
                "print(predict_best_meteor_shower_viewing('Abu Dhabi'))"
            ],
            "metadata": {
                "azdata_cell_guid": "98288740-88dc-40be-b3c6-2a2f4b73a05e"
            },
            "outputs": [
                {
                    "name": "stdout",
                    "text": "In Abu Dhabi you can see the following meteor showers:\nLyrids is best seen if you look towards the Lyra constellation on April 22, 2020.\nEta Aquarids is best seen if you look towards the Aquarius constellation on April 22, 2020.\nOrionids is best seen if you look towards the Orion constellation on October 16, 2020.\nPerseids is best seen if you look towards the Perseus constellation on July 20, 2020.\nChang'e is best seen if you look towards the Draco constellation on October 16, 2020.\n\n",
                    "output_type": "stream"
                }
            ],
            "execution_count": 60
        },
        {
            "cell_type": "code",
            "source": [
                "print(predict_best_meteor_shower_viewing('Beijing'))"
            ],
            "metadata": {
                "azdata_cell_guid": "309d7be9-3430-4cf5-9155-c40e3eb943e6"
            },
            "outputs": [
                {
                    "name": "stdout",
                    "text": "In Beijing you can see the following meteor showers:\nLyrids is best seen if you look towards the Lyra constellation on April 22, 2020.\nEta Aquarids is best seen if you look towards the Aquarius constellation on April 22, 2020.\nOrionids is best seen if you look towards the Orion constellation on October 16, 2020.\nPerseids is best seen if you look towards the Perseus constellation on July 20, 2020.\nChang'e is best seen if you look towards the Draco constellation on October 16, 2020.\n\n",
                    "output_type": "stream"
                }
            ],
            "execution_count": 61
        },
        {
            "cell_type": "markdown",
            "source": [
                "## Complying with the Movie\r\n",
                "Let's make one last change to our predictive algorithm to align with the film. Fei Fei travels to the Moon when it's big and bright, so we should make the viewing closer to 1. Change the predictive function after you get the moon_date_list and before the return statement:"
            ],
            "metadata": {
                "azdata_cell_guid": "f2ddbc06-fe1f-43c0-b2f4-01f6e771e663"
            }
        },
        {
            "cell_type": "code",
            "source": [
                "def predict_best_meteor_shower_viewing(city):\r\n",
                "    # Create an empty string to return the message back to the user\r\n",
                "    meteor_shower_string = \"\"\r\n",
                "\r\n",
                "    if city not in cities.values:\r\n",
                "        meteor_shower_string = f\"Unfortunately, {city} isn't available for a prediction at this time.\"\r\n",
                "        return meteor_shower_string\r\n",
                "\r\n",
                "     # Get the latitude of the city from the cities DataFrame\r\n",
                "    latitude = cities.loc[cities['city'] == city, 'latitude'].iloc[0]\r\n",
                "\r\n",
                "    # Get the list of constellations that are viewable from that latitude\r\n",
                "    constellation_list = constellations.loc[\r\n",
                "        (constellations['latitudestart'] >= latitude) & \r\n",
                "        (constellations['latitudeend']   <= latitude), \r\n",
                "        'constellation'].tolist()\r\n",
                "\r\n",
                "      # If no constellations are viewable, let the user know\r\n",
                "    if not constellation_list:\r\n",
                "        meteor_shower_string = f\"Unfortunately, there are no meteor showers viewable from {city}.\"\r\n",
                "        return meteor_shower_string\r\n",
                "\r\n",
                "    meteor_shower_string = f\"In {city} you can see the following meteor showers:\\n\"\r\n",
                "\r\n",
                "    for constellation in constellation_list:\r\n",
                "        # Find the meteor shower that is nearest to that constellation\r\n",
                "        meteor_shower = meteor_showers.loc[meteor_showers['radiant'] == constellation, 'name'].iloc[0]\r\n",
                "\r\n",
                "        # Find the start and end dates for that meteor shower\r\n",
                "        meteor_shower_startdate = meteor_showers.loc[meteor_showers['radiant'] == constellation, 'startdate'].iloc[0]\r\n",
                "        meteor_shower_enddate   = meteor_showers.loc[meteor_showers['radiant'] == constellation, 'enddate'].iloc[0]\r\n",
                "\r\n",
                "        # Find the Moon phases for each date within the viewable time frame of that meteor shower\r\n",
                "        moon_phases_list = moon_phases.loc[(moon_phases['date'] >= meteor_shower_startdate) & (moon_phases['date'] <= meteor_shower_enddate)]\r\n",
                "\r\n",
                "        if meteor_shower == 'Chang\\'e':\r\n",
                "            # For the film meteor shower, find the date where the Moon is the most visible\r\n",
                "            best_moon_date = moon_phases_list.loc[moon_phases_list['percentage'].idxmax()]['date']\r\n",
                "\r\n",
                "            # Add that date to the string to report back to the user\r\n",
                "            meteor_shower_string += \"Though the Moon will be bright, \" + meteor_shower + \"'s meteor shower is best seen if you look towards the \" + constellation + \" constellation on \" +  best_moon_date.to_pydatetime().strftime(\"%B %d, %Y\") + \".\\n\"\r\n",
                "        else:\r\n",
                "            # Find the first date where the Moon is the least visible\r\n",
                "            best_moon_date = moon_phases_list.loc[moon_phases_list['percentage'].idxmin()]['date']\r\n",
                "\r\n",
                "            # Add that date to the string to report back to the user\r\n",
                "            meteor_shower_string += meteor_shower + \" is best seen if you look towards the \" + constellation + \" constellation on \" +  best_moon_date.to_pydatetime().strftime(\"%B %d, %Y\") + \".\\n\"\r\n",
                "\r\n",
                "    return meteor_shower_string"
            ],
            "metadata": {
                "azdata_cell_guid": "fb702bd2-d3db-45a4-82c9-736877f412ae"
            },
            "outputs": [],
            "execution_count": 62
        },
        {
            "cell_type": "code",
            "source": [
                "print(predict_best_meteor_shower_viewing('Beijing'))"
            ],
            "metadata": {
                "azdata_cell_guid": "24224f1a-a311-4542-883f-55198bb466f5"
            },
            "outputs": [
                {
                    "name": "stdout",
                    "text": "In Beijing you can see the following meteor showers:\nLyrids is best seen if you look towards the Lyra constellation on April 22, 2020.\nEta Aquarids is best seen if you look towards the Aquarius constellation on April 22, 2020.\nOrionids is best seen if you look towards the Orion constellation on October 16, 2020.\nPerseids is best seen if you look towards the Perseus constellation on July 20, 2020.\nThough the Moon will be bright, Chang'e's meteor shower is best seen if you look towards the Draco constellation on October 01, 2020.\n\n",
                    "output_type": "stream"
                }
            ],
            "execution_count": 63
        }
    ]
}