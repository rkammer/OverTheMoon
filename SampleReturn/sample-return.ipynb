{
 "metadata": {
  "language_info": {
   "codemirror_mode": {
    "name": "ipython",
    "version": 3
   },
   "file_extension": ".py",
   "mimetype": "text/x-python",
   "name": "python",
   "nbconvert_exporter": "python",
   "pygments_lexer": "ipython3",
   "version": "3.7.9-final"
  },
  "orig_nbformat": 2,
  "kernelspec": {
   "name": "python3",
   "display_name": "Python 3"
  }
 },
 "nbformat": 4,
 "nbformat_minor": 2,
 "cells": [
  {
   "source": [
    "![alt text](../img/explore-space-using-python.svg \"Over the moon\")\n",
    "# Plan a Moon mission by using Python pandas\n",
    "\n",
    "In this module, you will:\n",
    "\n",
    "* Create a clear representation of data from many sources.\n",
    "* Use Python and pandas to explore data.\n",
    "* Use data cleansing techniques to get a clear representation of data.\n",
    "* Hypothesize how much rock sample astronauts might bring back on the Artemis missions.\n",
    "\n"
   ],
   "cell_type": "markdown",
   "metadata": {}
  },
  {
   "source": [
    "## Reads Dataset"
   ],
   "cell_type": "markdown",
   "metadata": {}
  },
  {
   "cell_type": "code",
   "execution_count": 128,
   "metadata": {},
   "outputs": [
    {
     "output_type": "execute_result",
     "data": {
      "text/plain": [
       "      ID   Mission    Type   Subtype  Weight(g)  Pristine(%)\n",
       "0  10001  Apollo11    Soil  Unsieved      125.8        88.36\n",
       "1  10002  Apollo11    Soil  Unsieved     5629.0        93.73\n",
       "2  10003  Apollo11  Basalt  Ilmenite      213.0        65.56\n",
       "3  10004  Apollo11    Core  Unsieved       44.8        71.76\n",
       "4  10005  Apollo11    Core  Unsieved       53.4        40.31"
      ],
      "text/html": "<div>\n<style scoped>\n    .dataframe tbody tr th:only-of-type {\n        vertical-align: middle;\n    }\n\n    .dataframe tbody tr th {\n        vertical-align: top;\n    }\n\n    .dataframe thead th {\n        text-align: right;\n    }\n</style>\n<table border=\"1\" class=\"dataframe\">\n  <thead>\n    <tr style=\"text-align: right;\">\n      <th></th>\n      <th>ID</th>\n      <th>Mission</th>\n      <th>Type</th>\n      <th>Subtype</th>\n      <th>Weight(g)</th>\n      <th>Pristine(%)</th>\n    </tr>\n  </thead>\n  <tbody>\n    <tr>\n      <th>0</th>\n      <td>10001</td>\n      <td>Apollo11</td>\n      <td>Soil</td>\n      <td>Unsieved</td>\n      <td>125.8</td>\n      <td>88.36</td>\n    </tr>\n    <tr>\n      <th>1</th>\n      <td>10002</td>\n      <td>Apollo11</td>\n      <td>Soil</td>\n      <td>Unsieved</td>\n      <td>5629.0</td>\n      <td>93.73</td>\n    </tr>\n    <tr>\n      <th>2</th>\n      <td>10003</td>\n      <td>Apollo11</td>\n      <td>Basalt</td>\n      <td>Ilmenite</td>\n      <td>213.0</td>\n      <td>65.56</td>\n    </tr>\n    <tr>\n      <th>3</th>\n      <td>10004</td>\n      <td>Apollo11</td>\n      <td>Core</td>\n      <td>Unsieved</td>\n      <td>44.8</td>\n      <td>71.76</td>\n    </tr>\n    <tr>\n      <th>4</th>\n      <td>10005</td>\n      <td>Apollo11</td>\n      <td>Core</td>\n      <td>Unsieved</td>\n      <td>53.4</td>\n      <td>40.31</td>\n    </tr>\n  </tbody>\n</table>\n</div>"
     },
     "metadata": {},
     "execution_count": 128
    }
   ],
   "source": [
    "import pandas as pd\n",
    "rock_samples = pd.read_csv('data/rocksamples.csv')\n",
    "\n",
    "# head() shows the first five lines of the DataFrame\n",
    "rock_samples.head()"
   ]
  },
  {
   "cell_type": "code",
   "execution_count": 129,
   "metadata": {},
   "outputs": [
    {
     "output_type": "stream",
     "name": "stdout",
     "text": [
      "<class 'pandas.core.frame.DataFrame'>\nRangeIndex: 2229 entries, 0 to 2228\nData columns (total 6 columns):\n #   Column       Non-Null Count  Dtype  \n---  ------       --------------  -----  \n 0   ID           2229 non-null   int64  \n 1   Mission      2229 non-null   object \n 2   Type         2229 non-null   object \n 3   Subtype      2226 non-null   object \n 4   Weight(g)    2229 non-null   float64\n 5   Pristine(%)  2229 non-null   float64\ndtypes: float64(2), int64(1), object(3)\nmemory usage: 104.6+ KB\n"
     ]
    }
   ],
   "source": [
    "\n",
    "\"\"\"\n",
    "    Describes the DataFrame\n",
    "\"\"\"\n",
    "rock_samples.info()"
   ]
  },
  {
   "source": [
    "## Convert Weight from grams to kilogram"
   ],
   "cell_type": "markdown",
   "metadata": {}
  },
  {
   "cell_type": "code",
   "execution_count": 130,
   "metadata": {},
   "outputs": [
    {
     "output_type": "execute_result",
     "data": {
      "text/plain": [
       "      ID   Mission    Type   Subtype  Weight(Kg)  Pristine(%)\n",
       "0  10001  Apollo11    Soil  Unsieved      0.1258        88.36\n",
       "1  10002  Apollo11    Soil  Unsieved      5.6290        93.73\n",
       "2  10003  Apollo11  Basalt  Ilmenite      0.2130        65.56\n",
       "3  10004  Apollo11    Core  Unsieved      0.0448        71.76\n",
       "4  10005  Apollo11    Core  Unsieved      0.0534        40.31"
      ],
      "text/html": "<div>\n<style scoped>\n    .dataframe tbody tr th:only-of-type {\n        vertical-align: middle;\n    }\n\n    .dataframe tbody tr th {\n        vertical-align: top;\n    }\n\n    .dataframe thead th {\n        text-align: right;\n    }\n</style>\n<table border=\"1\" class=\"dataframe\">\n  <thead>\n    <tr style=\"text-align: right;\">\n      <th></th>\n      <th>ID</th>\n      <th>Mission</th>\n      <th>Type</th>\n      <th>Subtype</th>\n      <th>Weight(Kg)</th>\n      <th>Pristine(%)</th>\n    </tr>\n  </thead>\n  <tbody>\n    <tr>\n      <th>0</th>\n      <td>10001</td>\n      <td>Apollo11</td>\n      <td>Soil</td>\n      <td>Unsieved</td>\n      <td>0.1258</td>\n      <td>88.36</td>\n    </tr>\n    <tr>\n      <th>1</th>\n      <td>10002</td>\n      <td>Apollo11</td>\n      <td>Soil</td>\n      <td>Unsieved</td>\n      <td>5.6290</td>\n      <td>93.73</td>\n    </tr>\n    <tr>\n      <th>2</th>\n      <td>10003</td>\n      <td>Apollo11</td>\n      <td>Basalt</td>\n      <td>Ilmenite</td>\n      <td>0.2130</td>\n      <td>65.56</td>\n    </tr>\n    <tr>\n      <th>3</th>\n      <td>10004</td>\n      <td>Apollo11</td>\n      <td>Core</td>\n      <td>Unsieved</td>\n      <td>0.0448</td>\n      <td>71.76</td>\n    </tr>\n    <tr>\n      <th>4</th>\n      <td>10005</td>\n      <td>Apollo11</td>\n      <td>Core</td>\n      <td>Unsieved</td>\n      <td>0.0534</td>\n      <td>40.31</td>\n    </tr>\n  </tbody>\n</table>\n</div>"
     },
     "metadata": {},
     "execution_count": 130
    }
   ],
   "source": [
    "rock_samples['Weight(g)'] = rock_samples['Weight(g)'].apply(lambda x : x * 0.001)\n",
    "rock_samples.rename(columns={'Weight(g)' : 'Weight(Kg)'}, inplace=True)\n",
    "rock_samples.head()"
   ]
  },
  {
   "source": [
    "## Mission Dimension\n",
    "\n",
    "The rock_samples dataframe has a row for every sample that was collected but, we want to understand the rock samples in total as they relate to the specific rockets that brought them back."
   ],
   "cell_type": "markdown",
   "metadata": {}
  },
  {
   "source": [
    "missions = pd.DataFrame()\n",
    "missions['Mission'] = rock_samples['Mission'].unique()\n",
    "missions.head()\n"
   ],
   "cell_type": "code",
   "metadata": {},
   "execution_count": 131,
   "outputs": [
    {
     "output_type": "execute_result",
     "data": {
      "text/plain": [
       "    Mission\n",
       "0  Apollo11\n",
       "1  Apollo12\n",
       "2  Apollo14\n",
       "3  Apollo15\n",
       "4  Apollo16"
      ],
      "text/html": "<div>\n<style scoped>\n    .dataframe tbody tr th:only-of-type {\n        vertical-align: middle;\n    }\n\n    .dataframe tbody tr th {\n        vertical-align: top;\n    }\n\n    .dataframe thead th {\n        text-align: right;\n    }\n</style>\n<table border=\"1\" class=\"dataframe\">\n  <thead>\n    <tr style=\"text-align: right;\">\n      <th></th>\n      <th>Mission</th>\n    </tr>\n  </thead>\n  <tbody>\n    <tr>\n      <th>0</th>\n      <td>Apollo11</td>\n    </tr>\n    <tr>\n      <th>1</th>\n      <td>Apollo12</td>\n    </tr>\n    <tr>\n      <th>2</th>\n      <td>Apollo14</td>\n    </tr>\n    <tr>\n      <th>3</th>\n      <td>Apollo15</td>\n    </tr>\n    <tr>\n      <th>4</th>\n      <td>Apollo16</td>\n    </tr>\n  </tbody>\n</table>\n</div>"
     },
     "metadata": {},
     "execution_count": 131
    }
   ]
  },
  {
   "cell_type": "code",
   "execution_count": 132,
   "metadata": {},
   "outputs": [
    {
     "output_type": "stream",
     "name": "stdout",
     "text": [
      "<class 'pandas.core.frame.DataFrame'>\nRangeIndex: 6 entries, 0 to 5\nData columns (total 1 columns):\n #   Column   Non-Null Count  Dtype \n---  ------   --------------  ----- \n 0   Mission  6 non-null      object\ndtypes: object(1)\nmemory usage: 176.0+ bytes\n"
     ]
    }
   ],
   "source": [
    "missions.info()"
   ]
  },
  {
   "source": [
    "## Sum total weight by Mission\n",
    "Adds a new column to the missions dataframe to represent the sum of all samples collected on that mission"
   ],
   "cell_type": "markdown",
   "metadata": {}
  },
  {
   "cell_type": "code",
   "execution_count": 133,
   "metadata": {},
   "outputs": [
    {
     "output_type": "execute_result",
     "data": {
      "text/plain": [
       "    Mission  Sample Weight(Kg)\n",
       "0  Apollo11           21.55424\n",
       "1  Apollo12           34.34238\n",
       "2  Apollo14           41.83363\n",
       "3  Apollo15           75.39910\n",
       "4  Apollo16           92.46262\n",
       "5  Apollo17          109.44402"
      ],
      "text/html": "<div>\n<style scoped>\n    .dataframe tbody tr th:only-of-type {\n        vertical-align: middle;\n    }\n\n    .dataframe tbody tr th {\n        vertical-align: top;\n    }\n\n    .dataframe thead th {\n        text-align: right;\n    }\n</style>\n<table border=\"1\" class=\"dataframe\">\n  <thead>\n    <tr style=\"text-align: right;\">\n      <th></th>\n      <th>Mission</th>\n      <th>Sample Weight(Kg)</th>\n    </tr>\n  </thead>\n  <tbody>\n    <tr>\n      <th>0</th>\n      <td>Apollo11</td>\n      <td>21.55424</td>\n    </tr>\n    <tr>\n      <th>1</th>\n      <td>Apollo12</td>\n      <td>34.34238</td>\n    </tr>\n    <tr>\n      <th>2</th>\n      <td>Apollo14</td>\n      <td>41.83363</td>\n    </tr>\n    <tr>\n      <th>3</th>\n      <td>Apollo15</td>\n      <td>75.39910</td>\n    </tr>\n    <tr>\n      <th>4</th>\n      <td>Apollo16</td>\n      <td>92.46262</td>\n    </tr>\n    <tr>\n      <th>5</th>\n      <td>Apollo17</td>\n      <td>109.44402</td>\n    </tr>\n  </tbody>\n</table>\n</div>"
     },
     "metadata": {},
     "execution_count": 133
    }
   ],
   "source": [
    "sample_total_weight = rock_samples.groupby('Mission')['Weight(Kg)'].sum()\n",
    "missions = pd.merge(missions, sample_total_weight, on='Mission')\n",
    "missions.rename(columns={'Weight(Kg)' : 'Sample Weight(Kg)'}, inplace=True)\n",
    "missions"
   ]
  },
  {
   "source": [
    "## Get the difference in weights across missions\n",
    "Take a look at a lot of different cross sections of data that are available. The total weight of the samples increased with each mission, but it's hard to immediately see by how much.\n",
    "\n",
    "Add one more column to the missions dataframe that simply grabs the difference between the current row and the row preceding it."
   ],
   "cell_type": "markdown",
   "metadata": {}
  },
  {
   "cell_type": "code",
   "execution_count": 134,
   "metadata": {},
   "outputs": [
    {
     "output_type": "execute_result",
     "data": {
      "text/plain": [
       "    Mission  Sample Weight(Kg)  Weight Diff\n",
       "0  Apollo11           21.55424          NaN\n",
       "1  Apollo12           34.34238     12.78814\n",
       "2  Apollo14           41.83363      7.49125\n",
       "3  Apollo15           75.39910     33.56547\n",
       "4  Apollo16           92.46262     17.06352\n",
       "5  Apollo17          109.44402     16.98140"
      ],
      "text/html": "<div>\n<style scoped>\n    .dataframe tbody tr th:only-of-type {\n        vertical-align: middle;\n    }\n\n    .dataframe tbody tr th {\n        vertical-align: top;\n    }\n\n    .dataframe thead th {\n        text-align: right;\n    }\n</style>\n<table border=\"1\" class=\"dataframe\">\n  <thead>\n    <tr style=\"text-align: right;\">\n      <th></th>\n      <th>Mission</th>\n      <th>Sample Weight(Kg)</th>\n      <th>Weight Diff</th>\n    </tr>\n  </thead>\n  <tbody>\n    <tr>\n      <th>0</th>\n      <td>Apollo11</td>\n      <td>21.55424</td>\n      <td>NaN</td>\n    </tr>\n    <tr>\n      <th>1</th>\n      <td>Apollo12</td>\n      <td>34.34238</td>\n      <td>12.78814</td>\n    </tr>\n    <tr>\n      <th>2</th>\n      <td>Apollo14</td>\n      <td>41.83363</td>\n      <td>7.49125</td>\n    </tr>\n    <tr>\n      <th>3</th>\n      <td>Apollo15</td>\n      <td>75.39910</td>\n      <td>33.56547</td>\n    </tr>\n    <tr>\n      <th>4</th>\n      <td>Apollo16</td>\n      <td>92.46262</td>\n      <td>17.06352</td>\n    </tr>\n    <tr>\n      <th>5</th>\n      <td>Apollo17</td>\n      <td>109.44402</td>\n      <td>16.98140</td>\n    </tr>\n  </tbody>\n</table>\n</div>"
     },
     "metadata": {},
     "execution_count": 134
    }
   ],
   "source": [
    "missions['Weight Diff'] = missions['Sample Weight(Kg)'].diff()\n",
    "missions"
   ]
  },
  {
   "source": [
    "## Fills null values with zero"
   ],
   "cell_type": "markdown",
   "metadata": {}
  },
  {
   "cell_type": "code",
   "execution_count": 135,
   "metadata": {},
   "outputs": [
    {
     "output_type": "execute_result",
     "data": {
      "text/plain": [
       "    Mission  Sample Weight(Kg)  Weight Diff\n",
       "0  Apollo11           21.55424      0.00000\n",
       "1  Apollo12           34.34238     12.78814\n",
       "2  Apollo14           41.83363      7.49125\n",
       "3  Apollo15           75.39910     33.56547\n",
       "4  Apollo16           92.46262     17.06352\n",
       "5  Apollo17          109.44402     16.98140"
      ],
      "text/html": "<div>\n<style scoped>\n    .dataframe tbody tr th:only-of-type {\n        vertical-align: middle;\n    }\n\n    .dataframe tbody tr th {\n        vertical-align: top;\n    }\n\n    .dataframe thead th {\n        text-align: right;\n    }\n</style>\n<table border=\"1\" class=\"dataframe\">\n  <thead>\n    <tr style=\"text-align: right;\">\n      <th></th>\n      <th>Mission</th>\n      <th>Sample Weight(Kg)</th>\n      <th>Weight Diff</th>\n    </tr>\n  </thead>\n  <tbody>\n    <tr>\n      <th>0</th>\n      <td>Apollo11</td>\n      <td>21.55424</td>\n      <td>0.00000</td>\n    </tr>\n    <tr>\n      <th>1</th>\n      <td>Apollo12</td>\n      <td>34.34238</td>\n      <td>12.78814</td>\n    </tr>\n    <tr>\n      <th>2</th>\n      <td>Apollo14</td>\n      <td>41.83363</td>\n      <td>7.49125</td>\n    </tr>\n    <tr>\n      <th>3</th>\n      <td>Apollo15</td>\n      <td>75.39910</td>\n      <td>33.56547</td>\n    </tr>\n    <tr>\n      <th>4</th>\n      <td>Apollo16</td>\n      <td>92.46262</td>\n      <td>17.06352</td>\n    </tr>\n    <tr>\n      <th>5</th>\n      <td>Apollo17</td>\n      <td>109.44402</td>\n      <td>16.98140</td>\n    </tr>\n  </tbody>\n</table>\n</div>"
     },
     "metadata": {},
     "execution_count": 135
    }
   ],
   "source": [
    "missions['Weight Diff'] = missions['Weight Diff'].fillna(value=0)\n",
    "missions"
   ]
  },
  {
   "source": [
    "## Add in command and lunar module data\n",
    "\n",
    "By using the [NASA Space Science Data Coordinated Archive](https://nssdc.gsfc.nasa.gov/nmc/SpacecraftQuery.jsp), we gathered information about each module used in each mission. As you did when you created the samples tables, create six new columns, three for the lunar modules and three for the command modules:\n",
    "\n",
    "* Module Name\n",
    "* Module Mass\n",
    "* Module Mass Diff\n",
    "\n",
    "Fill in any NaN values with 0:"
   ],
   "cell_type": "markdown",
   "metadata": {}
  },
  {
   "cell_type": "code",
   "execution_count": 136,
   "metadata": {},
   "outputs": [
    {
     "output_type": "execute_result",
     "data": {
      "text/plain": [
       "    Mission  Sample Weight(Kg)  Weight Diff   Lunar Module (LM)  LM Mass (Kg)  \\\n",
       "0  Apollo11           21.55424      0.00000      Antares (LM-8)         15264   \n",
       "1  Apollo12           34.34238     12.78814        Eagle (LM-5)         15235   \n",
       "2  Apollo14           41.83363      7.49125     Interpid (LM-6)         16456   \n",
       "3  Apollo15           75.39910     33.56547       Orion (LM-11)         16430   \n",
       "4  Apollo16           92.46262     17.06352      Falcon (LM-10)         16445   \n",
       "5  Apollo17          109.44402     16.98140  Challenger (LM-12)         15103   \n",
       "\n",
       "   LM Mass Diff      Command Module (CM)  CM Mass (Kg)  CM Mass Diff  \n",
       "0           0.0        Command (CSM-107)          5960           0.0  \n",
       "1         -29.0          Casper (CM-113)          5609        -351.0  \n",
       "2        1221.0  Yankee Clipper (CM-108)          5840         231.0  \n",
       "3         -26.0        Endeavor (CM-112)          5875          35.0  \n",
       "4          15.0      Kitty Hawk (CM-110)          5560        -315.0  \n",
       "5       -1342.0         America (CM-114)          5758         198.0  "
      ],
      "text/html": "<div>\n<style scoped>\n    .dataframe tbody tr th:only-of-type {\n        vertical-align: middle;\n    }\n\n    .dataframe tbody tr th {\n        vertical-align: top;\n    }\n\n    .dataframe thead th {\n        text-align: right;\n    }\n</style>\n<table border=\"1\" class=\"dataframe\">\n  <thead>\n    <tr style=\"text-align: right;\">\n      <th></th>\n      <th>Mission</th>\n      <th>Sample Weight(Kg)</th>\n      <th>Weight Diff</th>\n      <th>Lunar Module (LM)</th>\n      <th>LM Mass (Kg)</th>\n      <th>LM Mass Diff</th>\n      <th>Command Module (CM)</th>\n      <th>CM Mass (Kg)</th>\n      <th>CM Mass Diff</th>\n    </tr>\n  </thead>\n  <tbody>\n    <tr>\n      <th>0</th>\n      <td>Apollo11</td>\n      <td>21.55424</td>\n      <td>0.00000</td>\n      <td>Antares (LM-8)</td>\n      <td>15264</td>\n      <td>0.0</td>\n      <td>Command (CSM-107)</td>\n      <td>5960</td>\n      <td>0.0</td>\n    </tr>\n    <tr>\n      <th>1</th>\n      <td>Apollo12</td>\n      <td>34.34238</td>\n      <td>12.78814</td>\n      <td>Eagle (LM-5)</td>\n      <td>15235</td>\n      <td>-29.0</td>\n      <td>Casper (CM-113)</td>\n      <td>5609</td>\n      <td>-351.0</td>\n    </tr>\n    <tr>\n      <th>2</th>\n      <td>Apollo14</td>\n      <td>41.83363</td>\n      <td>7.49125</td>\n      <td>Interpid (LM-6)</td>\n      <td>16456</td>\n      <td>1221.0</td>\n      <td>Yankee Clipper (CM-108)</td>\n      <td>5840</td>\n      <td>231.0</td>\n    </tr>\n    <tr>\n      <th>3</th>\n      <td>Apollo15</td>\n      <td>75.39910</td>\n      <td>33.56547</td>\n      <td>Orion (LM-11)</td>\n      <td>16430</td>\n      <td>-26.0</td>\n      <td>Endeavor (CM-112)</td>\n      <td>5875</td>\n      <td>35.0</td>\n    </tr>\n    <tr>\n      <th>4</th>\n      <td>Apollo16</td>\n      <td>92.46262</td>\n      <td>17.06352</td>\n      <td>Falcon (LM-10)</td>\n      <td>16445</td>\n      <td>15.0</td>\n      <td>Kitty Hawk (CM-110)</td>\n      <td>5560</td>\n      <td>-315.0</td>\n    </tr>\n    <tr>\n      <th>5</th>\n      <td>Apollo17</td>\n      <td>109.44402</td>\n      <td>16.98140</td>\n      <td>Challenger (LM-12)</td>\n      <td>15103</td>\n      <td>-1342.0</td>\n      <td>America (CM-114)</td>\n      <td>5758</td>\n      <td>198.0</td>\n    </tr>\n  </tbody>\n</table>\n</div>"
     },
     "metadata": {},
     "execution_count": 136
    }
   ],
   "source": [
    "\"\"\"\n",
    "    Lunar Modules (LM)\n",
    "\"\"\"\n",
    "missions['Lunar Module (LM)'] = {\n",
    "    'Eagle (LM-5)',\n",
    "    'Interpid (LM-6)',\n",
    "    'Antares (LM-8)',\n",
    "    'Falcon (LM-10)',\n",
    "    'Orion (LM-11)',\n",
    "    'Challenger (LM-12)'\n",
    "}\n",
    "\n",
    "missions['LM Mass (Kg)'] = {\n",
    "    15103, \n",
    "    15235,\n",
    "    15264,\n",
    "    16430,\n",
    "    16445,\n",
    "    16456\n",
    "}\n",
    "\n",
    "missions['LM Mass Diff'] = missions['LM Mass (Kg)'].diff().fillna(value=0)\n",
    "\n",
    "\"\"\"\n",
    "    Command Modules (CM)\n",
    "\"\"\"\n",
    "missions['Command Module (CM)'] = {\n",
    "    'Command (CSM-107)',\n",
    "    'Yankee Clipper (CM-108)',\n",
    "    'Kitty Hawk (CM-110)',\n",
    "    'Endeavor (CM-112)',\n",
    "    'Casper (CM-113)',\n",
    "    'America (CM-114)'\n",
    "}\n",
    "\n",
    "missions['CM Mass (Kg)'] = {\n",
    "    5560,\n",
    "    5609,\n",
    "    5758,\n",
    "    5875,\n",
    "    5840,\n",
    "    5960\n",
    "}\n",
    "\n",
    "missions['CM Mass Diff'] = missions['CM Mass (Kg)'].diff().fillna(value=0)\n",
    "\n",
    "\n",
    "missions"
   ]
  },
  {
   "source": [
    "## Adding Total Weight Columns"
   ],
   "cell_type": "markdown",
   "metadata": {}
  },
  {
   "cell_type": "code",
   "execution_count": 137,
   "metadata": {},
   "outputs": [
    {
     "output_type": "execute_result",
     "data": {
      "text/plain": [
       "    Mission  Sample Weight(Kg)  Weight Diff   Lunar Module (LM)  LM Mass (Kg)  \\\n",
       "0  Apollo11           21.55424      0.00000      Antares (LM-8)         15264   \n",
       "1  Apollo12           34.34238     12.78814        Eagle (LM-5)         15235   \n",
       "2  Apollo14           41.83363      7.49125     Interpid (LM-6)         16456   \n",
       "3  Apollo15           75.39910     33.56547       Orion (LM-11)         16430   \n",
       "4  Apollo16           92.46262     17.06352      Falcon (LM-10)         16445   \n",
       "5  Apollo17          109.44402     16.98140  Challenger (LM-12)         15103   \n",
       "\n",
       "   LM Mass Diff      Command Module (CM)  CM Mass (Kg)  CM Mass Diff  \\\n",
       "0           0.0        Command (CSM-107)          5960           0.0   \n",
       "1         -29.0          Casper (CM-113)          5609        -351.0   \n",
       "2        1221.0  Yankee Clipper (CM-108)          5840         231.0   \n",
       "3         -26.0        Endeavor (CM-112)          5875          35.0   \n",
       "4          15.0      Kitty Hawk (CM-110)          5560        -315.0   \n",
       "5       -1342.0         America (CM-114)          5758         198.0   \n",
       "\n",
       "   Total Weight (Kg)  Total Weight Diff  \n",
       "0              21224                0.0  \n",
       "1              20844             -380.0  \n",
       "2              22296             1452.0  \n",
       "3              22305                9.0  \n",
       "4              22005             -300.0  \n",
       "5              20861            -1144.0  "
      ],
      "text/html": "<div>\n<style scoped>\n    .dataframe tbody tr th:only-of-type {\n        vertical-align: middle;\n    }\n\n    .dataframe tbody tr th {\n        vertical-align: top;\n    }\n\n    .dataframe thead th {\n        text-align: right;\n    }\n</style>\n<table border=\"1\" class=\"dataframe\">\n  <thead>\n    <tr style=\"text-align: right;\">\n      <th></th>\n      <th>Mission</th>\n      <th>Sample Weight(Kg)</th>\n      <th>Weight Diff</th>\n      <th>Lunar Module (LM)</th>\n      <th>LM Mass (Kg)</th>\n      <th>LM Mass Diff</th>\n      <th>Command Module (CM)</th>\n      <th>CM Mass (Kg)</th>\n      <th>CM Mass Diff</th>\n      <th>Total Weight (Kg)</th>\n      <th>Total Weight Diff</th>\n    </tr>\n  </thead>\n  <tbody>\n    <tr>\n      <th>0</th>\n      <td>Apollo11</td>\n      <td>21.55424</td>\n      <td>0.00000</td>\n      <td>Antares (LM-8)</td>\n      <td>15264</td>\n      <td>0.0</td>\n      <td>Command (CSM-107)</td>\n      <td>5960</td>\n      <td>0.0</td>\n      <td>21224</td>\n      <td>0.0</td>\n    </tr>\n    <tr>\n      <th>1</th>\n      <td>Apollo12</td>\n      <td>34.34238</td>\n      <td>12.78814</td>\n      <td>Eagle (LM-5)</td>\n      <td>15235</td>\n      <td>-29.0</td>\n      <td>Casper (CM-113)</td>\n      <td>5609</td>\n      <td>-351.0</td>\n      <td>20844</td>\n      <td>-380.0</td>\n    </tr>\n    <tr>\n      <th>2</th>\n      <td>Apollo14</td>\n      <td>41.83363</td>\n      <td>7.49125</td>\n      <td>Interpid (LM-6)</td>\n      <td>16456</td>\n      <td>1221.0</td>\n      <td>Yankee Clipper (CM-108)</td>\n      <td>5840</td>\n      <td>231.0</td>\n      <td>22296</td>\n      <td>1452.0</td>\n    </tr>\n    <tr>\n      <th>3</th>\n      <td>Apollo15</td>\n      <td>75.39910</td>\n      <td>33.56547</td>\n      <td>Orion (LM-11)</td>\n      <td>16430</td>\n      <td>-26.0</td>\n      <td>Endeavor (CM-112)</td>\n      <td>5875</td>\n      <td>35.0</td>\n      <td>22305</td>\n      <td>9.0</td>\n    </tr>\n    <tr>\n      <th>4</th>\n      <td>Apollo16</td>\n      <td>92.46262</td>\n      <td>17.06352</td>\n      <td>Falcon (LM-10)</td>\n      <td>16445</td>\n      <td>15.0</td>\n      <td>Kitty Hawk (CM-110)</td>\n      <td>5560</td>\n      <td>-315.0</td>\n      <td>22005</td>\n      <td>-300.0</td>\n    </tr>\n    <tr>\n      <th>5</th>\n      <td>Apollo17</td>\n      <td>109.44402</td>\n      <td>16.98140</td>\n      <td>Challenger (LM-12)</td>\n      <td>15103</td>\n      <td>-1342.0</td>\n      <td>America (CM-114)</td>\n      <td>5758</td>\n      <td>198.0</td>\n      <td>20861</td>\n      <td>-1144.0</td>\n    </tr>\n  </tbody>\n</table>\n</div>"
     },
     "metadata": {},
     "execution_count": 137
    }
   ],
   "source": [
    "missions['Total Weight (Kg)'] = missions['LM Mass (Kg)'] + missions['CM Mass (Kg)']\n",
    "missions['Total Weight Diff'] = missions['LM Mass Diff'] + missions['CM Mass Diff']\n",
    "\n",
    "missions"
   ]
  },
  {
   "source": [
    "## Compare the Data\n",
    "The interesting thing about predicting how much sample each Artemis mission can bring back is that we don't yet know the full specs of the spacecraft that the Artemis plans on using. Using some information from the [NASA Factsheet on the Space Launch System (SLS) and Orion Modules](https://www.nasa.gov/sites/default/files/atoms/files/0080_sls_fact_sheet_sept2020_09082020_final_0.pdf), we have have data on weights and payloads.\n",
    "\n",
    "A payload is basically the total amount of weight that a rocket can get up through our atmosphere and into space. So the likelihood that the payload number is more accurate than the exact weights of each module is high, because deciding the payload will likely affect each of the other design decisions.\n",
    "\n",
    "We know that the Saturn V payload was 43,500 kg, and the weights of the modules varied from mission to mission. So, to determine the ratios that will allow us to make predictions about the Artemis missions, we can use:\n",
    "\n",
    "* Saturn V payload\n",
    "* Mission sample weight\n",
    "* Mission module weight\n"
   ],
   "cell_type": "markdown",
   "metadata": {}
  },
  {
   "cell_type": "code",
   "execution_count": 138,
   "metadata": {},
   "outputs": [
    {
     "output_type": "execute_result",
     "data": {
      "text/plain": [
       "    Mission  Sample Weight(Kg)  Weight Diff   Lunar Module (LM)  LM Mass (Kg)  \\\n",
       "0  Apollo11           21.55424      0.00000      Antares (LM-8)         15264   \n",
       "1  Apollo12           34.34238     12.78814        Eagle (LM-5)         15235   \n",
       "2  Apollo14           41.83363      7.49125     Interpid (LM-6)         16456   \n",
       "3  Apollo15           75.39910     33.56547       Orion (LM-11)         16430   \n",
       "4  Apollo16           92.46262     17.06352      Falcon (LM-10)         16445   \n",
       "5  Apollo17          109.44402     16.98140  Challenger (LM-12)         15103   \n",
       "\n",
       "   LM Mass Diff      Command Module (CM)  CM Mass (Kg)  CM Mass Diff  \\\n",
       "0           0.0        Command (CSM-107)          5960           0.0   \n",
       "1         -29.0          Casper (CM-113)          5609        -351.0   \n",
       "2        1221.0  Yankee Clipper (CM-108)          5840         231.0   \n",
       "3         -26.0        Endeavor (CM-112)          5875          35.0   \n",
       "4          15.0      Kitty Hawk (CM-110)          5560        -315.0   \n",
       "5       -1342.0         America (CM-114)          5758         198.0   \n",
       "\n",
       "   Total Weight (Kg)  Total Weight Diff  Crewed Area : Payload  \\\n",
       "0              21224                0.0               0.487908   \n",
       "1              20844             -380.0               0.479172   \n",
       "2              22296             1452.0               0.512552   \n",
       "3              22305                9.0               0.512759   \n",
       "4              22005             -300.0               0.505862   \n",
       "5              20861            -1144.0               0.479563   \n",
       "\n",
       "   Sample : Crewed Area  Sample : Payload  \n",
       "0              0.001016          0.000495  \n",
       "1              0.001648          0.000789  \n",
       "2              0.001876          0.000962  \n",
       "3              0.003380          0.001733  \n",
       "4              0.004202          0.002126  \n",
       "5              0.005246          0.002516  "
      ],
      "text/html": "<div>\n<style scoped>\n    .dataframe tbody tr th:only-of-type {\n        vertical-align: middle;\n    }\n\n    .dataframe tbody tr th {\n        vertical-align: top;\n    }\n\n    .dataframe thead th {\n        text-align: right;\n    }\n</style>\n<table border=\"1\" class=\"dataframe\">\n  <thead>\n    <tr style=\"text-align: right;\">\n      <th></th>\n      <th>Mission</th>\n      <th>Sample Weight(Kg)</th>\n      <th>Weight Diff</th>\n      <th>Lunar Module (LM)</th>\n      <th>LM Mass (Kg)</th>\n      <th>LM Mass Diff</th>\n      <th>Command Module (CM)</th>\n      <th>CM Mass (Kg)</th>\n      <th>CM Mass Diff</th>\n      <th>Total Weight (Kg)</th>\n      <th>Total Weight Diff</th>\n      <th>Crewed Area : Payload</th>\n      <th>Sample : Crewed Area</th>\n      <th>Sample : Payload</th>\n    </tr>\n  </thead>\n  <tbody>\n    <tr>\n      <th>0</th>\n      <td>Apollo11</td>\n      <td>21.55424</td>\n      <td>0.00000</td>\n      <td>Antares (LM-8)</td>\n      <td>15264</td>\n      <td>0.0</td>\n      <td>Command (CSM-107)</td>\n      <td>5960</td>\n      <td>0.0</td>\n      <td>21224</td>\n      <td>0.0</td>\n      <td>0.487908</td>\n      <td>0.001016</td>\n      <td>0.000495</td>\n    </tr>\n    <tr>\n      <th>1</th>\n      <td>Apollo12</td>\n      <td>34.34238</td>\n      <td>12.78814</td>\n      <td>Eagle (LM-5)</td>\n      <td>15235</td>\n      <td>-29.0</td>\n      <td>Casper (CM-113)</td>\n      <td>5609</td>\n      <td>-351.0</td>\n      <td>20844</td>\n      <td>-380.0</td>\n      <td>0.479172</td>\n      <td>0.001648</td>\n      <td>0.000789</td>\n    </tr>\n    <tr>\n      <th>2</th>\n      <td>Apollo14</td>\n      <td>41.83363</td>\n      <td>7.49125</td>\n      <td>Interpid (LM-6)</td>\n      <td>16456</td>\n      <td>1221.0</td>\n      <td>Yankee Clipper (CM-108)</td>\n      <td>5840</td>\n      <td>231.0</td>\n      <td>22296</td>\n      <td>1452.0</td>\n      <td>0.512552</td>\n      <td>0.001876</td>\n      <td>0.000962</td>\n    </tr>\n    <tr>\n      <th>3</th>\n      <td>Apollo15</td>\n      <td>75.39910</td>\n      <td>33.56547</td>\n      <td>Orion (LM-11)</td>\n      <td>16430</td>\n      <td>-26.0</td>\n      <td>Endeavor (CM-112)</td>\n      <td>5875</td>\n      <td>35.0</td>\n      <td>22305</td>\n      <td>9.0</td>\n      <td>0.512759</td>\n      <td>0.003380</td>\n      <td>0.001733</td>\n    </tr>\n    <tr>\n      <th>4</th>\n      <td>Apollo16</td>\n      <td>92.46262</td>\n      <td>17.06352</td>\n      <td>Falcon (LM-10)</td>\n      <td>16445</td>\n      <td>15.0</td>\n      <td>Kitty Hawk (CM-110)</td>\n      <td>5560</td>\n      <td>-315.0</td>\n      <td>22005</td>\n      <td>-300.0</td>\n      <td>0.505862</td>\n      <td>0.004202</td>\n      <td>0.002126</td>\n    </tr>\n    <tr>\n      <th>5</th>\n      <td>Apollo17</td>\n      <td>109.44402</td>\n      <td>16.98140</td>\n      <td>Challenger (LM-12)</td>\n      <td>15103</td>\n      <td>-1342.0</td>\n      <td>America (CM-114)</td>\n      <td>5758</td>\n      <td>198.0</td>\n      <td>20861</td>\n      <td>-1144.0</td>\n      <td>0.479563</td>\n      <td>0.005246</td>\n      <td>0.002516</td>\n    </tr>\n  </tbody>\n</table>\n</div>"
     },
     "metadata": {},
     "execution_count": 138
    }
   ],
   "source": [
    "\"\"\"\n",
    "    Sample to Weight Ratio\n",
    "\"\"\"\n",
    "saturnVPayload = 43500\n",
    "missions['Crewed Area : Payload'] = missions['Total Weight (Kg)'] / saturnVPayload\n",
    "missions['Sample : Crewed Area']  = missions['Sample Weight(Kg)'] / missions['Total Weight (Kg)']\n",
    "missions['Sample : Payload']      = missions['Sample Weight(Kg)'] / saturnVPayload\n",
    "\n",
    "missions"
   ]
  },
  {
   "source": [
    "### Save the ratios\n",
    "\n",
    "We can then use the mean() function to take the average of all those ratios across all the missions. We can then use these ratios to predict the Artemis capacity for samples.\n",
    "\n"
   ],
   "cell_type": "markdown",
   "metadata": {}
  },
  {
   "cell_type": "code",
   "execution_count": 139,
   "metadata": {},
   "outputs": [
    {
     "output_type": "stream",
     "name": "stdout",
     "text": [
      "0.49630268199233724\n0.0028946732226251396\n0.0014369195019157093\n"
     ]
    }
   ],
   "source": [
    "crewedArea_payload_ratio = missions['Crewed Area : Payload'].mean()\n",
    "sample_crewedAread_ratio = missions['Sample : Crewed Area'].mean()\n",
    "sample_payload_ratio     = missions['Sample : Payload'].mean()\n",
    "\n",
    "print(crewedArea_payload_ratio)\n",
    "print(sample_crewedAread_ratio)\n",
    "print(sample_payload_ratio)"
   ]
  },
  {
   "source": [
    "## Predict Artemis Sample Capacity\n",
    "\n",
    "As mentioned in the preceding unit, we can use the [NASA Factsheet on the Space Launch System (SLS) and Orion Modules](https://www.nasa.gov/sites/default/files/atoms/files/0080_sls_fact_sheet_sept2020_09082020_final_0.pdf) to gather estimated data on the rockets and modules that will be used in the Artemis program.\n",
    "\n",
    "As a reminder, the [Artemis program](https://www.nasa.gov/specials/artemis/) is NASA's second set of missions to land humans on the surface of the Moon. The program will launch in 2024 and will send not only the next pair of humans, but also the first woman to set foot on the Moon. The preparation for this mission is even bigger than focusing on a Moon landing. It will also provide space for a commercial payload on the ship and is the first step along the [Moon to Mars program](https://www.nasa.gov/topics/moon-to-mars). So, while the Artemis missions will likely bring home additional samples, there are other goals that might affect the amount of capacity that's required to do so.\n",
    "\n",
    "## Creating an Artemis Mission Dataframe\n",
    "We don't have all the details about the Artemis mission, but we do know currently that three iterations of the rocket will be cycled through for each mission. Each rocket will have one version meant to sustain a crew and one meant only for cargo. For the purposes of this module, we will focus only on the three rockets meant to house crew, to be more aligned with the Apollo missions. We also know that the expected payload of the Space Launch System (SLS) is expected to grow with each iteration, but that the current weight of Orion (the command and lunar modules combined) has one estimated weight today.\n",
    "\n",
    "Again, we will call the command and lunar modules the crewed area, and we can create a dataframe with the information we have about the three crewed missions:"
   ],
   "cell_type": "markdown",
   "metadata": {}
  },
  {
   "cell_type": "code",
   "execution_count": 140,
   "metadata": {},
   "outputs": [
    {
     "output_type": "execute_result",
     "data": {
      "text/plain": [
       "    Mission  Total Weight (Kg)  Payload (Kg)\n",
       "0  artemis1              26520         26988\n",
       "1  artemis2              26520         37965\n",
       "2  artemis3              26520         42955"
      ],
      "text/html": "<div>\n<style scoped>\n    .dataframe tbody tr th:only-of-type {\n        vertical-align: middle;\n    }\n\n    .dataframe tbody tr th {\n        vertical-align: top;\n    }\n\n    .dataframe thead th {\n        text-align: right;\n    }\n</style>\n<table border=\"1\" class=\"dataframe\">\n  <thead>\n    <tr style=\"text-align: right;\">\n      <th></th>\n      <th>Mission</th>\n      <th>Total Weight (Kg)</th>\n      <th>Payload (Kg)</th>\n    </tr>\n  </thead>\n  <tbody>\n    <tr>\n      <th>0</th>\n      <td>artemis1</td>\n      <td>26520</td>\n      <td>26988</td>\n    </tr>\n    <tr>\n      <th>1</th>\n      <td>artemis2</td>\n      <td>26520</td>\n      <td>37965</td>\n    </tr>\n    <tr>\n      <th>2</th>\n      <td>artemis3</td>\n      <td>26520</td>\n      <td>42955</td>\n    </tr>\n  </tbody>\n</table>\n</div>"
     },
     "metadata": {},
     "execution_count": 140
    }
   ],
   "source": [
    "artemis_crewed_area = 26520\n",
    "artemis_mission = pd.DataFrame(\n",
    "    {\n",
    "        'Mission' : [\n",
    "            'artemis1',\n",
    "            'artemis2',\n",
    "            'artemis3'\n",
    "        ],\n",
    "        'Total Weight (Kg)' : [\n",
    "            artemis_crewed_area,\n",
    "            artemis_crewed_area,\n",
    "            artemis_crewed_area\n",
    "        ],\n",
    "        'Payload (Kg)' : [\n",
    "            26988, \n",
    "            37965,\n",
    "            42955\n",
    "        ]\n",
    "    }\n",
    ")\n",
    "\n",
    "artemis_mission\n"
   ]
  },
  {
   "source": [
    "And we can estimate the weight of samples based on the ratios we determined from the Artemis missions:"
   ],
   "cell_type": "markdown",
   "metadata": {}
  },
  {
   "cell_type": "code",
   "execution_count": 141,
   "metadata": {},
   "outputs": [
    {
     "output_type": "execute_result",
     "data": {
      "text/plain": [
       "    Mission  Total Weight (Kg)  Payload (Kg)  Sample Weight from Total (Kg)  \\\n",
       "0  artemis1              26520         26988                      76.766734   \n",
       "1  artemis2              26520         37965                      76.766734   \n",
       "2  artemis3              26520         42955                      76.766734   \n",
       "\n",
       "   Sample Weight from Payload (Kg)  \n",
       "0                        38.779584  \n",
       "1                        54.552649  \n",
       "2                        61.722877  "
      ],
      "text/html": "<div>\n<style scoped>\n    .dataframe tbody tr th:only-of-type {\n        vertical-align: middle;\n    }\n\n    .dataframe tbody tr th {\n        vertical-align: top;\n    }\n\n    .dataframe thead th {\n        text-align: right;\n    }\n</style>\n<table border=\"1\" class=\"dataframe\">\n  <thead>\n    <tr style=\"text-align: right;\">\n      <th></th>\n      <th>Mission</th>\n      <th>Total Weight (Kg)</th>\n      <th>Payload (Kg)</th>\n      <th>Sample Weight from Total (Kg)</th>\n      <th>Sample Weight from Payload (Kg)</th>\n    </tr>\n  </thead>\n  <tbody>\n    <tr>\n      <th>0</th>\n      <td>artemis1</td>\n      <td>26520</td>\n      <td>26988</td>\n      <td>76.766734</td>\n      <td>38.779584</td>\n    </tr>\n    <tr>\n      <th>1</th>\n      <td>artemis2</td>\n      <td>26520</td>\n      <td>37965</td>\n      <td>76.766734</td>\n      <td>54.552649</td>\n    </tr>\n    <tr>\n      <th>2</th>\n      <td>artemis3</td>\n      <td>26520</td>\n      <td>42955</td>\n      <td>76.766734</td>\n      <td>61.722877</td>\n    </tr>\n  </tbody>\n</table>\n</div>"
     },
     "metadata": {},
     "execution_count": 141
    }
   ],
   "source": [
    "artemis_mission['Sample Weight from Total (Kg)']   = artemis_mission['Total Weight (Kg)'] * sample_crewedAread_ratio\n",
    "artemis_mission['Sample Weight from Payload (Kg)'] = artemis_mission['Payload (Kg)']      * sample_payload_ratio\n",
    "\n",
    "artemis_mission"
   ]
  },
  {
   "source": [
    "Finally, we can get the average of the two predictions:"
   ],
   "cell_type": "markdown",
   "metadata": {}
  },
  {
   "cell_type": "code",
   "execution_count": 142,
   "metadata": {},
   "outputs": [
    {
     "output_type": "execute_result",
     "data": {
      "text/plain": [
       "    Mission  Total Weight (Kg)  Payload (Kg)  Sample Weight from Total (Kg)  \\\n",
       "0  artemis1              26520         26988                      76.766734   \n",
       "1  artemis2              26520         37965                      76.766734   \n",
       "2  artemis3              26520         42955                      76.766734   \n",
       "\n",
       "   Sample Weight from Payload (Kg)  Estimated Sample Weight (Kg)  \n",
       "0                        38.779584                     57.773159  \n",
       "1                        54.552649                     65.659691  \n",
       "2                        61.722877                     69.244806  "
      ],
      "text/html": "<div>\n<style scoped>\n    .dataframe tbody tr th:only-of-type {\n        vertical-align: middle;\n    }\n\n    .dataframe tbody tr th {\n        vertical-align: top;\n    }\n\n    .dataframe thead th {\n        text-align: right;\n    }\n</style>\n<table border=\"1\" class=\"dataframe\">\n  <thead>\n    <tr style=\"text-align: right;\">\n      <th></th>\n      <th>Mission</th>\n      <th>Total Weight (Kg)</th>\n      <th>Payload (Kg)</th>\n      <th>Sample Weight from Total (Kg)</th>\n      <th>Sample Weight from Payload (Kg)</th>\n      <th>Estimated Sample Weight (Kg)</th>\n    </tr>\n  </thead>\n  <tbody>\n    <tr>\n      <th>0</th>\n      <td>artemis1</td>\n      <td>26520</td>\n      <td>26988</td>\n      <td>76.766734</td>\n      <td>38.779584</td>\n      <td>57.773159</td>\n    </tr>\n    <tr>\n      <th>1</th>\n      <td>artemis2</td>\n      <td>26520</td>\n      <td>37965</td>\n      <td>76.766734</td>\n      <td>54.552649</td>\n      <td>65.659691</td>\n    </tr>\n    <tr>\n      <th>2</th>\n      <td>artemis3</td>\n      <td>26520</td>\n      <td>42955</td>\n      <td>76.766734</td>\n      <td>61.722877</td>\n      <td>69.244806</td>\n    </tr>\n  </tbody>\n</table>\n</div>"
     },
     "metadata": {},
     "execution_count": 142
    }
   ],
   "source": [
    "artemis_mission['Estimated Sample Weight (Kg)'] = (artemis_mission['Sample Weight from Payload (Kg)'] + artemis_mission['Sample Weight from Total (Kg)']) / 2\n",
    "\n",
    "artemis_mission"
   ]
  },
  {
   "source": [
    "## Prioritize Moon rock sample gathering based on data\n",
    "\n",
    "Determining which types of samples to collect from the Moon definitely requires expertise, but we can start to make some assumptions for the purpose of learning how to clean and manipulate data.\n",
    "\n",
    "First, we can determine how much remains of each sample that was returned from the Apollo missions, given the amount that was originally collected and the percentage of remaining pristine sample."
   ],
   "cell_type": "markdown",
   "metadata": {}
  },
  {
   "cell_type": "code",
   "execution_count": 144,
   "metadata": {},
   "outputs": [
    {
     "output_type": "execute_result",
     "data": {
      "text/plain": [
       "      ID   Mission    Type   Subtype  Weight(Kg)  Pristine(%)  Remaining (Kg)\n",
       "0  10001  Apollo11    Soil  Unsieved      0.1258        88.36        0.111157\n",
       "1  10002  Apollo11    Soil  Unsieved      5.6290        93.73        5.276062\n",
       "2  10003  Apollo11  Basalt  Ilmenite      0.2130        65.56        0.139643\n",
       "3  10004  Apollo11    Core  Unsieved      0.0448        71.76        0.032148\n",
       "4  10005  Apollo11    Core  Unsieved      0.0534        40.31        0.021526"
      ],
      "text/html": "<div>\n<style scoped>\n    .dataframe tbody tr th:only-of-type {\n        vertical-align: middle;\n    }\n\n    .dataframe tbody tr th {\n        vertical-align: top;\n    }\n\n    .dataframe thead th {\n        text-align: right;\n    }\n</style>\n<table border=\"1\" class=\"dataframe\">\n  <thead>\n    <tr style=\"text-align: right;\">\n      <th></th>\n      <th>ID</th>\n      <th>Mission</th>\n      <th>Type</th>\n      <th>Subtype</th>\n      <th>Weight(Kg)</th>\n      <th>Pristine(%)</th>\n      <th>Remaining (Kg)</th>\n    </tr>\n  </thead>\n  <tbody>\n    <tr>\n      <th>0</th>\n      <td>10001</td>\n      <td>Apollo11</td>\n      <td>Soil</td>\n      <td>Unsieved</td>\n      <td>0.1258</td>\n      <td>88.36</td>\n      <td>0.111157</td>\n    </tr>\n    <tr>\n      <th>1</th>\n      <td>10002</td>\n      <td>Apollo11</td>\n      <td>Soil</td>\n      <td>Unsieved</td>\n      <td>5.6290</td>\n      <td>93.73</td>\n      <td>5.276062</td>\n    </tr>\n    <tr>\n      <th>2</th>\n      <td>10003</td>\n      <td>Apollo11</td>\n      <td>Basalt</td>\n      <td>Ilmenite</td>\n      <td>0.2130</td>\n      <td>65.56</td>\n      <td>0.139643</td>\n    </tr>\n    <tr>\n      <th>3</th>\n      <td>10004</td>\n      <td>Apollo11</td>\n      <td>Core</td>\n      <td>Unsieved</td>\n      <td>0.0448</td>\n      <td>71.76</td>\n      <td>0.032148</td>\n    </tr>\n    <tr>\n      <th>4</th>\n      <td>10005</td>\n      <td>Apollo11</td>\n      <td>Core</td>\n      <td>Unsieved</td>\n      <td>0.0534</td>\n      <td>40.31</td>\n      <td>0.021526</td>\n    </tr>\n  </tbody>\n</table>\n</div>"
     },
     "metadata": {},
     "execution_count": 144
    }
   ],
   "source": [
    "rock_samples['Remaining (Kg)'] = rock_samples['Weight(Kg)'] * (rock_samples['Pristine(%)'] * .01)\n",
    "\n",
    "rock_samples.head()"
   ]
  },
  {
   "source": [
    "Looking at the ```head()``` or ```info()``` of the rock_samples dataframe isn't actually useful at this point. With over 2,000 samples, it's difficult to get an understanding of what the values are. For that, you can use the ```describe()``` function:"
   ],
   "cell_type": "markdown",
   "metadata": {}
  },
  {
   "cell_type": "code",
   "execution_count": 145,
   "metadata": {},
   "outputs": [
    {
     "output_type": "execute_result",
     "data": {
      "text/plain": [
       "                 ID   Weight(Kg)  Pristine(%)  Remaining (Kg)\n",
       "count   2229.000000  2229.000000  2229.000000     2229.000000\n",
       "mean   52058.432032     0.168253    84.512764        0.138103\n",
       "std    26207.651471     0.637286    22.057299        0.525954\n",
       "min    10001.000000     0.000000     0.000000        0.000000\n",
       "25%    15437.000000     0.003000    80.010000        0.002432\n",
       "50%    65527.000000     0.010200    92.300000        0.008530\n",
       "75%    72142.000000     0.093490    98.140000        0.078240\n",
       "max    79537.000000    11.729000   180.000000       11.169527"
      ],
      "text/html": "<div>\n<style scoped>\n    .dataframe tbody tr th:only-of-type {\n        vertical-align: middle;\n    }\n\n    .dataframe tbody tr th {\n        vertical-align: top;\n    }\n\n    .dataframe thead th {\n        text-align: right;\n    }\n</style>\n<table border=\"1\" class=\"dataframe\">\n  <thead>\n    <tr style=\"text-align: right;\">\n      <th></th>\n      <th>ID</th>\n      <th>Weight(Kg)</th>\n      <th>Pristine(%)</th>\n      <th>Remaining (Kg)</th>\n    </tr>\n  </thead>\n  <tbody>\n    <tr>\n      <th>count</th>\n      <td>2229.000000</td>\n      <td>2229.000000</td>\n      <td>2229.000000</td>\n      <td>2229.000000</td>\n    </tr>\n    <tr>\n      <th>mean</th>\n      <td>52058.432032</td>\n      <td>0.168253</td>\n      <td>84.512764</td>\n      <td>0.138103</td>\n    </tr>\n    <tr>\n      <th>std</th>\n      <td>26207.651471</td>\n      <td>0.637286</td>\n      <td>22.057299</td>\n      <td>0.525954</td>\n    </tr>\n    <tr>\n      <th>min</th>\n      <td>10001.000000</td>\n      <td>0.000000</td>\n      <td>0.000000</td>\n      <td>0.000000</td>\n    </tr>\n    <tr>\n      <th>25%</th>\n      <td>15437.000000</td>\n      <td>0.003000</td>\n      <td>80.010000</td>\n      <td>0.002432</td>\n    </tr>\n    <tr>\n      <th>50%</th>\n      <td>65527.000000</td>\n      <td>0.010200</td>\n      <td>92.300000</td>\n      <td>0.008530</td>\n    </tr>\n    <tr>\n      <th>75%</th>\n      <td>72142.000000</td>\n      <td>0.093490</td>\n      <td>98.140000</td>\n      <td>0.078240</td>\n    </tr>\n    <tr>\n      <th>max</th>\n      <td>79537.000000</td>\n      <td>11.729000</td>\n      <td>180.000000</td>\n      <td>11.169527</td>\n    </tr>\n  </tbody>\n</table>\n</div>"
     },
     "metadata": {},
     "execution_count": 145
    }
   ],
   "source": [
    "rock_samples.describe()"
   ]
  },
  {
   "source": [
    "This helps us see that, on average, each sample weighs about .16 kg and has about 84% of the original amount remaining. We can use this knowledge to extract only the samples that are likely running low, which means that they have been used a lot by researchers."
   ],
   "cell_type": "markdown",
   "metadata": {}
  },
  {
   "cell_type": "code",
   "execution_count": 149,
   "metadata": {},
   "outputs": [
    {
     "output_type": "execute_result",
     "data": {
      "text/plain": [
       "       ID   Mission     Type   Subtype  Weight(Kg)  Pristine(%)  \\\n",
       "11  10017  Apollo11   Basalt  Ilmenite       0.973        43.71   \n",
       "14  10020  Apollo11   Basalt  Ilmenite       0.425        27.88   \n",
       "15  10021  Apollo11  Breccia  Regolith       0.250        30.21   \n",
       "29  10045  Apollo11   Basalt   Olivine       0.185        12.13   \n",
       "37  10057  Apollo11   Basalt  Ilmenite       0.919        35.15   \n",
       "\n",
       "    Remaining (Kg)  \n",
       "11        0.425298  \n",
       "14        0.118490  \n",
       "15        0.075525  \n",
       "29        0.022441  \n",
       "37        0.323028  "
      ],
      "text/html": "<div>\n<style scoped>\n    .dataframe tbody tr th:only-of-type {\n        vertical-align: middle;\n    }\n\n    .dataframe tbody tr th {\n        vertical-align: top;\n    }\n\n    .dataframe thead th {\n        text-align: right;\n    }\n</style>\n<table border=\"1\" class=\"dataframe\">\n  <thead>\n    <tr style=\"text-align: right;\">\n      <th></th>\n      <th>ID</th>\n      <th>Mission</th>\n      <th>Type</th>\n      <th>Subtype</th>\n      <th>Weight(Kg)</th>\n      <th>Pristine(%)</th>\n      <th>Remaining (Kg)</th>\n    </tr>\n  </thead>\n  <tbody>\n    <tr>\n      <th>11</th>\n      <td>10017</td>\n      <td>Apollo11</td>\n      <td>Basalt</td>\n      <td>Ilmenite</td>\n      <td>0.973</td>\n      <td>43.71</td>\n      <td>0.425298</td>\n    </tr>\n    <tr>\n      <th>14</th>\n      <td>10020</td>\n      <td>Apollo11</td>\n      <td>Basalt</td>\n      <td>Ilmenite</td>\n      <td>0.425</td>\n      <td>27.88</td>\n      <td>0.118490</td>\n    </tr>\n    <tr>\n      <th>15</th>\n      <td>10021</td>\n      <td>Apollo11</td>\n      <td>Breccia</td>\n      <td>Regolith</td>\n      <td>0.250</td>\n      <td>30.21</td>\n      <td>0.075525</td>\n    </tr>\n    <tr>\n      <th>29</th>\n      <td>10045</td>\n      <td>Apollo11</td>\n      <td>Basalt</td>\n      <td>Olivine</td>\n      <td>0.185</td>\n      <td>12.13</td>\n      <td>0.022441</td>\n    </tr>\n    <tr>\n      <th>37</th>\n      <td>10057</td>\n      <td>Apollo11</td>\n      <td>Basalt</td>\n      <td>Ilmenite</td>\n      <td>0.919</td>\n      <td>35.15</td>\n      <td>0.323028</td>\n    </tr>\n  </tbody>\n</table>\n</div>"
     },
     "metadata": {},
     "execution_count": 149
    }
   ],
   "source": [
    "low_samples = rock_samples.loc[\n",
    "    (rock_samples['Weight(Kg)'] >= .16) & \n",
    "    (rock_samples['Pristine(%)'] <= 50)\n",
    "]\n",
    "low_samples.head()"
   ]
  },
  {
   "cell_type": "code",
   "execution_count": 150,
   "metadata": {},
   "outputs": [
    {
     "output_type": "stream",
     "name": "stdout",
     "text": [
      "<class 'pandas.core.frame.DataFrame'>\nInt64Index: 27 entries, 11 to 2183\nData columns (total 7 columns):\n #   Column          Non-Null Count  Dtype  \n---  ------          --------------  -----  \n 0   ID              27 non-null     int64  \n 1   Mission         27 non-null     object \n 2   Type            27 non-null     object \n 3   Subtype         27 non-null     object \n 4   Weight(Kg)      27 non-null     float64\n 5   Pristine(%)     27 non-null     float64\n 6   Remaining (Kg)  27 non-null     float64\ndtypes: float64(3), int64(1), object(3)\nmemory usage: 1.7+ KB\n"
     ]
    }
   ],
   "source": [
    "low_samples.info()"
   ]
  },
  {
   "source": [
    "Twenty-seven samples seems like a small amount to base a recommendation on. We can probably find some other samples that are needed for more research here on Earth. To discover them, we can use the unique() function to see how many unique types we have across the low_samples and rock_samples dataframes."
   ],
   "cell_type": "markdown",
   "metadata": {}
  },
  {
   "cell_type": "code",
   "execution_count": 151,
   "metadata": {},
   "outputs": [
    {
     "output_type": "execute_result",
     "data": {
      "text/plain": [
       "array(['Basalt', 'Breccia', 'Soil', 'Core'], dtype=object)"
      ]
     },
     "metadata": {},
     "execution_count": 151
    }
   ],
   "source": [
    "low_samples.Type.unique()"
   ]
  },
  {
   "cell_type": "code",
   "execution_count": 152,
   "metadata": {},
   "outputs": [
    {
     "output_type": "execute_result",
     "data": {
      "text/plain": [
       "array(['Soil', 'Basalt', 'Core', 'Breccia', 'Special', 'Crustal'],\n",
       "      dtype=object)"
      ]
     },
     "metadata": {},
     "execution_count": 152
    }
   ],
   "source": [
    "rock_samples.Type.unique()"
   ]
  },
  {
   "source": [
    "We can see that, although six unique types were collected across all samples, the samples that are running low are from only four unique types. But this doesn't tell us everything about the samples we might want to focus on. For example, in our low_samples dataframe, how many of each type are actually considered low?"
   ],
   "cell_type": "markdown",
   "metadata": {}
  },
  {
   "cell_type": "code",
   "execution_count": 154,
   "metadata": {},
   "outputs": [
    {
     "output_type": "execute_result",
     "data": {
      "text/plain": [
       "Type\n",
       "Basalt     14\n",
       "Breccia     8\n",
       "Core        1\n",
       "Soil        4\n",
       "Name: Weight(Kg), dtype: int64"
      ]
     },
     "metadata": {},
     "execution_count": 154
    }
   ],
   "source": [
    "low_samples.groupby('Type')['Weight(Kg)'].count()"
   ]
  },
  {
   "source": [
    "Notice that there are more Basalt and Breccia type rocks with low samples than those of Core and Soil. Additionally, because the likelihood is high that every mission has some Core and Soil collection requirements, we can focus on the Basalt and Breccia rock types for the samples that we need to have collected:"
   ],
   "cell_type": "markdown",
   "metadata": {}
  },
  {
   "cell_type": "code",
   "execution_count": 155,
   "metadata": {},
   "outputs": [
    {
     "output_type": "stream",
     "name": "stdout",
     "text": [
      "<class 'pandas.core.frame.DataFrame'>\nInt64Index: 22 entries, 11 to 2183\nData columns (total 7 columns):\n #   Column          Non-Null Count  Dtype  \n---  ------          --------------  -----  \n 0   ID              22 non-null     int64  \n 1   Mission         22 non-null     object \n 2   Type            22 non-null     object \n 3   Subtype         22 non-null     object \n 4   Weight(Kg)      22 non-null     float64\n 5   Pristine(%)     22 non-null     float64\n 6   Remaining (Kg)  22 non-null     float64\ndtypes: float64(3), int64(1), object(3)\nmemory usage: 1.4+ KB\n"
     ]
    }
   ],
   "source": [
    "needed_samples = low_samples[\n",
    "    low_samples['Type'].isin(['Basalt', 'Breccia'])\n",
    "]\n",
    "needed_samples.info()"
   ]
  },
  {
   "source": [
    "But are Basalt and Breccia really the only two types of rocks we want to look for?"
   ],
   "cell_type": "markdown",
   "metadata": {}
  },
  {
   "source": [
    "## Develop a recommendation of Moon rock samples to be collected\n",
    "\n",
    "Let's take a step back and see how the number of samples compares to the amount of sample. We can compare the total weight from the needed_samples dataframe to the rock_samples dataframe. That is, we'll compare the samples we've identified as running low to all the samples collected on Apollo missions."
   ],
   "cell_type": "markdown",
   "metadata": {}
  },
  {
   "cell_type": "code",
   "execution_count": 157,
   "metadata": {},
   "outputs": [
    {
     "output_type": "execute_result",
     "data": {
      "text/plain": [
       "Type\n",
       "Basalt     17.4234\n",
       "Breccia    10.1185\n",
       "Name: Weight(Kg), dtype: float64"
      ]
     },
     "metadata": {},
     "execution_count": 157
    }
   ],
   "source": [
    "needed_samples.groupby('Type')['Weight(Kg)'].sum()"
   ]
  },
  {
   "cell_type": "code",
   "execution_count": 158,
   "metadata": {},
   "outputs": [
    {
     "output_type": "execute_result",
     "data": {
      "text/plain": [
       "Type\n",
       "Basalt      93.14077\n",
       "Breccia    168.88075\n",
       "Core        19.93587\n",
       "Crustal      4.74469\n",
       "Soil        87.58981\n",
       "Special      0.74410\n",
       "Name: Weight(Kg), dtype: float64"
      ]
     },
     "metadata": {},
     "execution_count": 158
    }
   ],
   "source": [
    "rock_samples.groupby('Type')['Weight(Kg)'].sum()"
   ]
  },
  {
   "source": [
    "One bit of information really stands out: we've never had a lot of Crustal rocks in the first place.\n",
    "\n",
    "We can add Crustal rocks to the set of needed samples:"
   ],
   "cell_type": "markdown",
   "metadata": {}
  },
  {
   "cell_type": "code",
   "execution_count": 160,
   "metadata": {},
   "outputs": [
    {
     "output_type": "stream",
     "name": "stdout",
     "text": [
      "<class 'pandas.core.frame.DataFrame'>\nInt64Index: 114 entries, 11 to 2189\nData columns (total 7 columns):\n #   Column          Non-Null Count  Dtype  \n---  ------          --------------  -----  \n 0   ID              114 non-null    int64  \n 1   Mission         114 non-null    object \n 2   Type            114 non-null    object \n 3   Subtype         114 non-null    object \n 4   Weight(Kg)      114 non-null    float64\n 5   Pristine(%)     114 non-null    float64\n 6   Remaining (Kg)  114 non-null    float64\ndtypes: float64(3), int64(1), object(3)\nmemory usage: 7.1+ KB\n"
     ]
    }
   ],
   "source": [
    "needed_samples = needed_samples.append(rock_samples.loc[rock_samples['Type'] == 'Crustal' ])\n",
    "needed_samples.info()"
   ]
  },
  {
   "source": [
    "## Summary of needed samples\n",
    "\n",
    "The final step is to consolidate everything we know into one table that can be shared with the astronauts. First, we need a column for each type of rock that we have already identified as rocks we want more samples of:"
   ],
   "cell_type": "markdown",
   "metadata": {}
  },
  {
   "cell_type": "code",
   "execution_count": 162,
   "metadata": {},
   "outputs": [
    {
     "output_type": "execute_result",
     "data": {
      "text/plain": [
       "      Type\n",
       "0   Basalt\n",
       "1  Breccia\n",
       "2  Crustal"
      ],
      "text/html": "<div>\n<style scoped>\n    .dataframe tbody tr th:only-of-type {\n        vertical-align: middle;\n    }\n\n    .dataframe tbody tr th {\n        vertical-align: top;\n    }\n\n    .dataframe thead th {\n        text-align: right;\n    }\n</style>\n<table border=\"1\" class=\"dataframe\">\n  <thead>\n    <tr style=\"text-align: right;\">\n      <th></th>\n      <th>Type</th>\n    </tr>\n  </thead>\n  <tbody>\n    <tr>\n      <th>0</th>\n      <td>Basalt</td>\n    </tr>\n    <tr>\n      <th>1</th>\n      <td>Breccia</td>\n    </tr>\n    <tr>\n      <th>2</th>\n      <td>Crustal</td>\n    </tr>\n  </tbody>\n</table>\n</div>"
     },
     "metadata": {},
     "execution_count": 162
    }
   ],
   "source": [
    "needed_samples_overview = pd.DataFrame();\n",
    "needed_samples_overview['Type'] = needed_samples.Type.unique()\n",
    "needed_samples_overview"
   ]
  },
  {
   "source": [
    "Next, we want the total weight of each type of rock that was originally collected:"
   ],
   "cell_type": "markdown",
   "metadata": {}
  },
  {
   "cell_type": "code",
   "execution_count": 164,
   "metadata": {},
   "outputs": [
    {
     "output_type": "execute_result",
     "data": {
      "text/plain": [
       "      Type  Total Weight(Kg)\n",
       "0   Basalt          17.42340\n",
       "1  Breccia          10.11850\n",
       "2  Crustal           9.48938"
      ],
      "text/html": "<div>\n<style scoped>\n    .dataframe tbody tr th:only-of-type {\n        vertical-align: middle;\n    }\n\n    .dataframe tbody tr th {\n        vertical-align: top;\n    }\n\n    .dataframe thead th {\n        text-align: right;\n    }\n</style>\n<table border=\"1\" class=\"dataframe\">\n  <thead>\n    <tr style=\"text-align: right;\">\n      <th></th>\n      <th>Type</th>\n      <th>Total Weight(Kg)</th>\n    </tr>\n  </thead>\n  <tbody>\n    <tr>\n      <th>0</th>\n      <td>Basalt</td>\n      <td>17.42340</td>\n    </tr>\n    <tr>\n      <th>1</th>\n      <td>Breccia</td>\n      <td>10.11850</td>\n    </tr>\n    <tr>\n      <th>2</th>\n      <td>Crustal</td>\n      <td>9.48938</td>\n    </tr>\n  </tbody>\n</table>\n</div>"
     },
     "metadata": {},
     "execution_count": 164
    }
   ],
   "source": [
    "# needed_samples.info()\n",
    "needed_samples_weight = needed_samples.groupby('Type')['Weight(Kg)'].sum().reset_index()\n",
    "needed_samples_overview = pd.merge(needed_samples_overview, needed_samples_weight, on='Type')\n",
    "needed_samples_overview.rename(columns={'Weight(Kg)' : 'Total Weight(Kg)'}, inplace=True)\n",
    "\n",
    "needed_samples_overview"
   ]
  },
  {
   "source": [
    "When astronauts are up on the Moon, one way they can identify rocks is by their size. If we can give them an estimated size of each type of rock, that might make their collection process easier."
   ],
   "cell_type": "markdown",
   "metadata": {}
  },
  {
   "cell_type": "code",
   "execution_count": 165,
   "metadata": {},
   "outputs": [
    {
     "output_type": "execute_result",
     "data": {
      "text/plain": [
       "      Type  Total Weight(Kg)  Ave Weight(Kg)\n",
       "0   Basalt          17.42340        1.244529\n",
       "1  Breccia          10.11850        1.264812\n",
       "2  Crustal           9.48938        0.103145"
      ],
      "text/html": "<div>\n<style scoped>\n    .dataframe tbody tr th:only-of-type {\n        vertical-align: middle;\n    }\n\n    .dataframe tbody tr th {\n        vertical-align: top;\n    }\n\n    .dataframe thead th {\n        text-align: right;\n    }\n</style>\n<table border=\"1\" class=\"dataframe\">\n  <thead>\n    <tr style=\"text-align: right;\">\n      <th></th>\n      <th>Type</th>\n      <th>Total Weight(Kg)</th>\n      <th>Ave Weight(Kg)</th>\n    </tr>\n  </thead>\n  <tbody>\n    <tr>\n      <th>0</th>\n      <td>Basalt</td>\n      <td>17.42340</td>\n      <td>1.244529</td>\n    </tr>\n    <tr>\n      <th>1</th>\n      <td>Breccia</td>\n      <td>10.11850</td>\n      <td>1.264812</td>\n    </tr>\n    <tr>\n      <th>2</th>\n      <td>Crustal</td>\n      <td>9.48938</td>\n      <td>0.103145</td>\n    </tr>\n  </tbody>\n</table>\n</div>"
     },
     "metadata": {},
     "execution_count": 165
    }
   ],
   "source": [
    "needed_samples_ave_weights = needed_samples.groupby('Type')['Weight(Kg)'].mean().reset_index()\n",
    "needed_samples_overview = pd.merge(needed_samples_overview, needed_samples_ave_weights, on='Type')\n",
    "needed_samples_overview.rename(columns={'Weight(Kg)' : 'Ave Weight(Kg)'}, inplace=True)\n",
    "needed_samples_overview"
   ]
  },
  {
   "source": [
    "Crustals are small! They're probably a lot harder to spot, so no wonder we don't have a lot of them.\n",
    "\n",
    "We probably want to give the astronauts some indication of how many of each type we want them to collect. So, for the three types we're looking for, we should grab the total number we have of each type and get the remaining percentage of each type of rock."
   ],
   "cell_type": "markdown",
   "metadata": {}
  },
  {
   "cell_type": "code",
   "execution_count": 166,
   "metadata": {},
   "outputs": [
    {
     "output_type": "execute_result",
     "data": {
      "text/plain": [
       "      Type  Total Weight(Kg)  Ave Weight(Kg)  Number of Samples  \\\n",
       "0   Basalt          17.42340        1.244529                351   \n",
       "1  Breccia          10.11850        1.264812                959   \n",
       "2  Crustal           9.48938        0.103145                 46   \n",
       "\n",
       "   Percentage of Rocks  \n",
       "0             0.258850  \n",
       "1             0.707227  \n",
       "2             0.033923  "
      ],
      "text/html": "<div>\n<style scoped>\n    .dataframe tbody tr th:only-of-type {\n        vertical-align: middle;\n    }\n\n    .dataframe tbody tr th {\n        vertical-align: top;\n    }\n\n    .dataframe thead th {\n        text-align: right;\n    }\n</style>\n<table border=\"1\" class=\"dataframe\">\n  <thead>\n    <tr style=\"text-align: right;\">\n      <th></th>\n      <th>Type</th>\n      <th>Total Weight(Kg)</th>\n      <th>Ave Weight(Kg)</th>\n      <th>Number of Samples</th>\n      <th>Percentage of Rocks</th>\n    </tr>\n  </thead>\n  <tbody>\n    <tr>\n      <th>0</th>\n      <td>Basalt</td>\n      <td>17.42340</td>\n      <td>1.244529</td>\n      <td>351</td>\n      <td>0.258850</td>\n    </tr>\n    <tr>\n      <th>1</th>\n      <td>Breccia</td>\n      <td>10.11850</td>\n      <td>1.264812</td>\n      <td>959</td>\n      <td>0.707227</td>\n    </tr>\n    <tr>\n      <th>2</th>\n      <td>Crustal</td>\n      <td>9.48938</td>\n      <td>0.103145</td>\n      <td>46</td>\n      <td>0.033923</td>\n    </tr>\n  </tbody>\n</table>\n</div>"
     },
     "metadata": {},
     "execution_count": 166
    }
   ],
   "source": [
    "total_rock_count = rock_samples.groupby('Type')['ID'].count().reset_index()\n",
    "needed_samples_overview = pd.merge(needed_samples_overview, total_rock_count, on='Type')\n",
    "needed_samples_overview.rename(columns={'ID':'Number of Samples'}, inplace=True)\n",
    "total_rocks = needed_samples_overview['Number of Samples'].sum()\n",
    "needed_samples_overview['Percentage of Rocks'] = needed_samples_overview['Number of Samples'] / total_rocks\n",
    "\n",
    "needed_samples_overview"
   ]
  },
  {
   "source": [
    "And finally, to tie it all back into a recommendation to the Artemis program, we can determine the average weight of samples we estimated in the preceding unit."
   ],
   "cell_type": "markdown",
   "metadata": {}
  },
  {
   "cell_type": "code",
   "execution_count": 168,
   "metadata": {},
   "outputs": [
    {
     "output_type": "execute_result",
     "data": {
      "text/plain": [
       "64.22588520079607"
      ]
     },
     "metadata": {},
     "execution_count": 168
    }
   ],
   "source": [
    "artemis_ave_weight = artemis_mission['Estimated Sample Weight (Kg)'].mean()\n",
    "artemis_ave_weight"
   ]
  },
  {
   "source": [
    "We can use this number to determine how many of each rock we want the astronauts to aim to collect:"
   ],
   "cell_type": "markdown",
   "metadata": {}
  },
  {
   "cell_type": "code",
   "execution_count": 169,
   "metadata": {},
   "outputs": [
    {
     "output_type": "execute_result",
     "data": {
      "text/plain": [
       "      Type  Total Weight(Kg)  Ave Weight(Kg)  Number of Samples  \\\n",
       "0   Basalt          17.42340        1.244529                351   \n",
       "1  Breccia          10.11850        1.264812                959   \n",
       "2  Crustal           9.48938        0.103145                 46   \n",
       "\n",
       "   Percentage of Rocks  Weight to Collect  Rocks to Collect  \n",
       "0             0.258850          16.624842         13.358345  \n",
       "1             0.707227          45.422289         35.912271  \n",
       "2             0.033923           2.178754         21.123128  "
      ],
      "text/html": "<div>\n<style scoped>\n    .dataframe tbody tr th:only-of-type {\n        vertical-align: middle;\n    }\n\n    .dataframe tbody tr th {\n        vertical-align: top;\n    }\n\n    .dataframe thead th {\n        text-align: right;\n    }\n</style>\n<table border=\"1\" class=\"dataframe\">\n  <thead>\n    <tr style=\"text-align: right;\">\n      <th></th>\n      <th>Type</th>\n      <th>Total Weight(Kg)</th>\n      <th>Ave Weight(Kg)</th>\n      <th>Number of Samples</th>\n      <th>Percentage of Rocks</th>\n      <th>Weight to Collect</th>\n      <th>Rocks to Collect</th>\n    </tr>\n  </thead>\n  <tbody>\n    <tr>\n      <th>0</th>\n      <td>Basalt</td>\n      <td>17.42340</td>\n      <td>1.244529</td>\n      <td>351</td>\n      <td>0.258850</td>\n      <td>16.624842</td>\n      <td>13.358345</td>\n    </tr>\n    <tr>\n      <th>1</th>\n      <td>Breccia</td>\n      <td>10.11850</td>\n      <td>1.264812</td>\n      <td>959</td>\n      <td>0.707227</td>\n      <td>45.422289</td>\n      <td>35.912271</td>\n    </tr>\n    <tr>\n      <th>2</th>\n      <td>Crustal</td>\n      <td>9.48938</td>\n      <td>0.103145</td>\n      <td>46</td>\n      <td>0.033923</td>\n      <td>2.178754</td>\n      <td>21.123128</td>\n    </tr>\n  </tbody>\n</table>\n</div>"
     },
     "metadata": {},
     "execution_count": 169
    }
   ],
   "source": [
    "needed_samples_overview['Weight to Collect'] = needed_samples_overview['Percentage of Rocks'] * artemis_ave_weight\n",
    "\n",
    "needed_samples_overview['Rocks to Collect'] = needed_samples_overview['Weight to Collect'] / needed_samples_overview['Ave Weight(Kg)']\n",
    "\n",
    "needed_samples_overview"
   ]
  },
  {
   "cell_type": "code",
   "execution_count": null,
   "metadata": {},
   "outputs": [],
   "source": []
  }
 ]
}