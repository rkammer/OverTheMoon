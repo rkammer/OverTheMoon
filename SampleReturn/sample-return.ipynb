{
 "metadata": {
  "language_info": {
   "codemirror_mode": {
    "name": "ipython",
    "version": 3
   },
   "file_extension": ".py",
   "mimetype": "text/x-python",
   "name": "python",
   "nbconvert_exporter": "python",
   "pygments_lexer": "ipython3",
   "version": "3.7.9-final"
  },
  "orig_nbformat": 2,
  "kernelspec": {
   "name": "python3",
   "display_name": "Python 3"
  }
 },
 "nbformat": 4,
 "nbformat_minor": 2,
 "cells": [
  {
   "source": [
    "![alt text](../img/explore-space-using-python.svg \"Over the moon\")\n",
    "# Plan a Moon mission by using Python pandas\n",
    "\n",
    "In this module, you will:\n",
    "\n",
    "* Create a clear representation of data from many sources.\n",
    "* Use Python and pandas to explore data.\n",
    "* Use data cleansing techniques to get a clear representation of data.\n",
    "* Hypothesize how much rock sample astronauts might bring back on the Artemis missions.\n",
    "\n"
   ],
   "cell_type": "markdown",
   "metadata": {}
  },
  {
   "source": [
    "## Reads Dataset"
   ],
   "cell_type": "markdown",
   "metadata": {}
  },
  {
   "cell_type": "code",
   "execution_count": 114,
   "metadata": {},
   "outputs": [
    {
     "output_type": "execute_result",
     "data": {
      "text/plain": [
       "      ID   Mission    Type   Subtype  Weight(g)  Pristine(%)\n",
       "0  10001  Apollo11    Soil  Unsieved      125.8        88.36\n",
       "1  10002  Apollo11    Soil  Unsieved     5629.0        93.73\n",
       "2  10003  Apollo11  Basalt  Ilmenite      213.0        65.56\n",
       "3  10004  Apollo11    Core  Unsieved       44.8        71.76\n",
       "4  10005  Apollo11    Core  Unsieved       53.4        40.31"
      ],
      "text/html": "<div>\n<style scoped>\n    .dataframe tbody tr th:only-of-type {\n        vertical-align: middle;\n    }\n\n    .dataframe tbody tr th {\n        vertical-align: top;\n    }\n\n    .dataframe thead th {\n        text-align: right;\n    }\n</style>\n<table border=\"1\" class=\"dataframe\">\n  <thead>\n    <tr style=\"text-align: right;\">\n      <th></th>\n      <th>ID</th>\n      <th>Mission</th>\n      <th>Type</th>\n      <th>Subtype</th>\n      <th>Weight(g)</th>\n      <th>Pristine(%)</th>\n    </tr>\n  </thead>\n  <tbody>\n    <tr>\n      <th>0</th>\n      <td>10001</td>\n      <td>Apollo11</td>\n      <td>Soil</td>\n      <td>Unsieved</td>\n      <td>125.8</td>\n      <td>88.36</td>\n    </tr>\n    <tr>\n      <th>1</th>\n      <td>10002</td>\n      <td>Apollo11</td>\n      <td>Soil</td>\n      <td>Unsieved</td>\n      <td>5629.0</td>\n      <td>93.73</td>\n    </tr>\n    <tr>\n      <th>2</th>\n      <td>10003</td>\n      <td>Apollo11</td>\n      <td>Basalt</td>\n      <td>Ilmenite</td>\n      <td>213.0</td>\n      <td>65.56</td>\n    </tr>\n    <tr>\n      <th>3</th>\n      <td>10004</td>\n      <td>Apollo11</td>\n      <td>Core</td>\n      <td>Unsieved</td>\n      <td>44.8</td>\n      <td>71.76</td>\n    </tr>\n    <tr>\n      <th>4</th>\n      <td>10005</td>\n      <td>Apollo11</td>\n      <td>Core</td>\n      <td>Unsieved</td>\n      <td>53.4</td>\n      <td>40.31</td>\n    </tr>\n  </tbody>\n</table>\n</div>"
     },
     "metadata": {},
     "execution_count": 114
    }
   ],
   "source": [
    "import pandas as pd\n",
    "rock_samples = pd.read_csv('data/rocksamples.csv')\n",
    "\n",
    "# head() shows the first five lines of the DataFrame\n",
    "rock_samples.head()"
   ]
  },
  {
   "cell_type": "code",
   "execution_count": 115,
   "metadata": {},
   "outputs": [
    {
     "output_type": "stream",
     "name": "stdout",
     "text": [
      "<class 'pandas.core.frame.DataFrame'>\nRangeIndex: 2229 entries, 0 to 2228\nData columns (total 6 columns):\n #   Column       Non-Null Count  Dtype  \n---  ------       --------------  -----  \n 0   ID           2229 non-null   int64  \n 1   Mission      2229 non-null   object \n 2   Type         2229 non-null   object \n 3   Subtype      2226 non-null   object \n 4   Weight(g)    2229 non-null   float64\n 5   Pristine(%)  2229 non-null   float64\ndtypes: float64(2), int64(1), object(3)\nmemory usage: 104.6+ KB\n"
     ]
    }
   ],
   "source": [
    "\n",
    "\"\"\"\n",
    "    Describes the DataFrame\n",
    "\"\"\"\n",
    "rock_samples.info()"
   ]
  },
  {
   "source": [
    "## Convert Weight from grams to kilogram"
   ],
   "cell_type": "markdown",
   "metadata": {}
  },
  {
   "cell_type": "code",
   "execution_count": 116,
   "metadata": {},
   "outputs": [
    {
     "output_type": "execute_result",
     "data": {
      "text/plain": [
       "      ID   Mission    Type   Subtype  Weight(Kg)  Pristine(%)\n",
       "0  10001  Apollo11    Soil  Unsieved      0.1258        88.36\n",
       "1  10002  Apollo11    Soil  Unsieved      5.6290        93.73\n",
       "2  10003  Apollo11  Basalt  Ilmenite      0.2130        65.56\n",
       "3  10004  Apollo11    Core  Unsieved      0.0448        71.76\n",
       "4  10005  Apollo11    Core  Unsieved      0.0534        40.31"
      ],
      "text/html": "<div>\n<style scoped>\n    .dataframe tbody tr th:only-of-type {\n        vertical-align: middle;\n    }\n\n    .dataframe tbody tr th {\n        vertical-align: top;\n    }\n\n    .dataframe thead th {\n        text-align: right;\n    }\n</style>\n<table border=\"1\" class=\"dataframe\">\n  <thead>\n    <tr style=\"text-align: right;\">\n      <th></th>\n      <th>ID</th>\n      <th>Mission</th>\n      <th>Type</th>\n      <th>Subtype</th>\n      <th>Weight(Kg)</th>\n      <th>Pristine(%)</th>\n    </tr>\n  </thead>\n  <tbody>\n    <tr>\n      <th>0</th>\n      <td>10001</td>\n      <td>Apollo11</td>\n      <td>Soil</td>\n      <td>Unsieved</td>\n      <td>0.1258</td>\n      <td>88.36</td>\n    </tr>\n    <tr>\n      <th>1</th>\n      <td>10002</td>\n      <td>Apollo11</td>\n      <td>Soil</td>\n      <td>Unsieved</td>\n      <td>5.6290</td>\n      <td>93.73</td>\n    </tr>\n    <tr>\n      <th>2</th>\n      <td>10003</td>\n      <td>Apollo11</td>\n      <td>Basalt</td>\n      <td>Ilmenite</td>\n      <td>0.2130</td>\n      <td>65.56</td>\n    </tr>\n    <tr>\n      <th>3</th>\n      <td>10004</td>\n      <td>Apollo11</td>\n      <td>Core</td>\n      <td>Unsieved</td>\n      <td>0.0448</td>\n      <td>71.76</td>\n    </tr>\n    <tr>\n      <th>4</th>\n      <td>10005</td>\n      <td>Apollo11</td>\n      <td>Core</td>\n      <td>Unsieved</td>\n      <td>0.0534</td>\n      <td>40.31</td>\n    </tr>\n  </tbody>\n</table>\n</div>"
     },
     "metadata": {},
     "execution_count": 116
    }
   ],
   "source": [
    "rock_samples['Weight(g)'] = rock_samples['Weight(g)'].apply(lambda x : x * 0.001)\n",
    "rock_samples.rename(columns={'Weight(g)' : 'Weight(Kg)'}, inplace=True)\n",
    "rock_samples.head()"
   ]
  },
  {
   "source": [
    "## Mission Dimension\n",
    "\n",
    "The rock_samples dataframe has a row for every sample that was collected but, we want to understand the rock samples in total as they relate to the specific rockets that brought them back."
   ],
   "cell_type": "markdown",
   "metadata": {}
  },
  {
   "source": [
    "missions = pd.DataFrame()\n",
    "missions['Mission'] = rock_samples['Mission'].unique()\n",
    "missions.head()\n"
   ],
   "cell_type": "code",
   "metadata": {},
   "execution_count": 117,
   "outputs": [
    {
     "output_type": "execute_result",
     "data": {
      "text/plain": [
       "    Mission\n",
       "0  Apollo11\n",
       "1  Apollo12\n",
       "2  Apollo14\n",
       "3  Apollo15\n",
       "4  Apollo16"
      ],
      "text/html": "<div>\n<style scoped>\n    .dataframe tbody tr th:only-of-type {\n        vertical-align: middle;\n    }\n\n    .dataframe tbody tr th {\n        vertical-align: top;\n    }\n\n    .dataframe thead th {\n        text-align: right;\n    }\n</style>\n<table border=\"1\" class=\"dataframe\">\n  <thead>\n    <tr style=\"text-align: right;\">\n      <th></th>\n      <th>Mission</th>\n    </tr>\n  </thead>\n  <tbody>\n    <tr>\n      <th>0</th>\n      <td>Apollo11</td>\n    </tr>\n    <tr>\n      <th>1</th>\n      <td>Apollo12</td>\n    </tr>\n    <tr>\n      <th>2</th>\n      <td>Apollo14</td>\n    </tr>\n    <tr>\n      <th>3</th>\n      <td>Apollo15</td>\n    </tr>\n    <tr>\n      <th>4</th>\n      <td>Apollo16</td>\n    </tr>\n  </tbody>\n</table>\n</div>"
     },
     "metadata": {},
     "execution_count": 117
    }
   ]
  },
  {
   "cell_type": "code",
   "execution_count": 118,
   "metadata": {},
   "outputs": [
    {
     "output_type": "stream",
     "name": "stdout",
     "text": [
      "<class 'pandas.core.frame.DataFrame'>\nRangeIndex: 6 entries, 0 to 5\nData columns (total 1 columns):\n #   Column   Non-Null Count  Dtype \n---  ------   --------------  ----- \n 0   Mission  6 non-null      object\ndtypes: object(1)\nmemory usage: 176.0+ bytes\n"
     ]
    }
   ],
   "source": [
    "missions.info()"
   ]
  },
  {
   "source": [
    "## Sum total weight by Mission\n",
    "Adds a new column to the missions dataframe to represent the sum of all samples collected on that mission"
   ],
   "cell_type": "markdown",
   "metadata": {}
  },
  {
   "cell_type": "code",
   "execution_count": 119,
   "metadata": {},
   "outputs": [
    {
     "output_type": "execute_result",
     "data": {
      "text/plain": [
       "    Mission  Sample Weight(Kg)\n",
       "0  Apollo11           21.55424\n",
       "1  Apollo12           34.34238\n",
       "2  Apollo14           41.83363\n",
       "3  Apollo15           75.39910\n",
       "4  Apollo16           92.46262\n",
       "5  Apollo17          109.44402"
      ],
      "text/html": "<div>\n<style scoped>\n    .dataframe tbody tr th:only-of-type {\n        vertical-align: middle;\n    }\n\n    .dataframe tbody tr th {\n        vertical-align: top;\n    }\n\n    .dataframe thead th {\n        text-align: right;\n    }\n</style>\n<table border=\"1\" class=\"dataframe\">\n  <thead>\n    <tr style=\"text-align: right;\">\n      <th></th>\n      <th>Mission</th>\n      <th>Sample Weight(Kg)</th>\n    </tr>\n  </thead>\n  <tbody>\n    <tr>\n      <th>0</th>\n      <td>Apollo11</td>\n      <td>21.55424</td>\n    </tr>\n    <tr>\n      <th>1</th>\n      <td>Apollo12</td>\n      <td>34.34238</td>\n    </tr>\n    <tr>\n      <th>2</th>\n      <td>Apollo14</td>\n      <td>41.83363</td>\n    </tr>\n    <tr>\n      <th>3</th>\n      <td>Apollo15</td>\n      <td>75.39910</td>\n    </tr>\n    <tr>\n      <th>4</th>\n      <td>Apollo16</td>\n      <td>92.46262</td>\n    </tr>\n    <tr>\n      <th>5</th>\n      <td>Apollo17</td>\n      <td>109.44402</td>\n    </tr>\n  </tbody>\n</table>\n</div>"
     },
     "metadata": {},
     "execution_count": 119
    }
   ],
   "source": [
    "sample_total_weight = rock_samples.groupby('Mission')['Weight(Kg)'].sum()\n",
    "missions = pd.merge(missions, sample_total_weight, on='Mission')\n",
    "missions.rename(columns={'Weight(Kg)' : 'Sample Weight(Kg)'}, inplace=True)\n",
    "missions"
   ]
  },
  {
   "source": [
    "## Get the difference in weights across missions\n",
    "Take a look at a lot of different cross sections of data that are available. The total weight of the samples increased with each mission, but it's hard to immediately see by how much.\n",
    "\n",
    "Add one more column to the missions dataframe that simply grabs the difference between the current row and the row preceding it."
   ],
   "cell_type": "markdown",
   "metadata": {}
  },
  {
   "cell_type": "code",
   "execution_count": 120,
   "metadata": {},
   "outputs": [
    {
     "output_type": "execute_result",
     "data": {
      "text/plain": [
       "    Mission  Sample Weight(Kg)  Weight Diff\n",
       "0  Apollo11           21.55424          NaN\n",
       "1  Apollo12           34.34238     12.78814\n",
       "2  Apollo14           41.83363      7.49125\n",
       "3  Apollo15           75.39910     33.56547\n",
       "4  Apollo16           92.46262     17.06352\n",
       "5  Apollo17          109.44402     16.98140"
      ],
      "text/html": "<div>\n<style scoped>\n    .dataframe tbody tr th:only-of-type {\n        vertical-align: middle;\n    }\n\n    .dataframe tbody tr th {\n        vertical-align: top;\n    }\n\n    .dataframe thead th {\n        text-align: right;\n    }\n</style>\n<table border=\"1\" class=\"dataframe\">\n  <thead>\n    <tr style=\"text-align: right;\">\n      <th></th>\n      <th>Mission</th>\n      <th>Sample Weight(Kg)</th>\n      <th>Weight Diff</th>\n    </tr>\n  </thead>\n  <tbody>\n    <tr>\n      <th>0</th>\n      <td>Apollo11</td>\n      <td>21.55424</td>\n      <td>NaN</td>\n    </tr>\n    <tr>\n      <th>1</th>\n      <td>Apollo12</td>\n      <td>34.34238</td>\n      <td>12.78814</td>\n    </tr>\n    <tr>\n      <th>2</th>\n      <td>Apollo14</td>\n      <td>41.83363</td>\n      <td>7.49125</td>\n    </tr>\n    <tr>\n      <th>3</th>\n      <td>Apollo15</td>\n      <td>75.39910</td>\n      <td>33.56547</td>\n    </tr>\n    <tr>\n      <th>4</th>\n      <td>Apollo16</td>\n      <td>92.46262</td>\n      <td>17.06352</td>\n    </tr>\n    <tr>\n      <th>5</th>\n      <td>Apollo17</td>\n      <td>109.44402</td>\n      <td>16.98140</td>\n    </tr>\n  </tbody>\n</table>\n</div>"
     },
     "metadata": {},
     "execution_count": 120
    }
   ],
   "source": [
    "missions['Weight Diff'] = missions['Sample Weight(Kg)'].diff()\n",
    "missions"
   ]
  },
  {
   "source": [
    "## Fills null values with zero"
   ],
   "cell_type": "markdown",
   "metadata": {}
  },
  {
   "cell_type": "code",
   "execution_count": 121,
   "metadata": {},
   "outputs": [
    {
     "output_type": "execute_result",
     "data": {
      "text/plain": [
       "    Mission  Sample Weight(Kg)  Weight Diff\n",
       "0  Apollo11           21.55424      0.00000\n",
       "1  Apollo12           34.34238     12.78814\n",
       "2  Apollo14           41.83363      7.49125\n",
       "3  Apollo15           75.39910     33.56547\n",
       "4  Apollo16           92.46262     17.06352\n",
       "5  Apollo17          109.44402     16.98140"
      ],
      "text/html": "<div>\n<style scoped>\n    .dataframe tbody tr th:only-of-type {\n        vertical-align: middle;\n    }\n\n    .dataframe tbody tr th {\n        vertical-align: top;\n    }\n\n    .dataframe thead th {\n        text-align: right;\n    }\n</style>\n<table border=\"1\" class=\"dataframe\">\n  <thead>\n    <tr style=\"text-align: right;\">\n      <th></th>\n      <th>Mission</th>\n      <th>Sample Weight(Kg)</th>\n      <th>Weight Diff</th>\n    </tr>\n  </thead>\n  <tbody>\n    <tr>\n      <th>0</th>\n      <td>Apollo11</td>\n      <td>21.55424</td>\n      <td>0.00000</td>\n    </tr>\n    <tr>\n      <th>1</th>\n      <td>Apollo12</td>\n      <td>34.34238</td>\n      <td>12.78814</td>\n    </tr>\n    <tr>\n      <th>2</th>\n      <td>Apollo14</td>\n      <td>41.83363</td>\n      <td>7.49125</td>\n    </tr>\n    <tr>\n      <th>3</th>\n      <td>Apollo15</td>\n      <td>75.39910</td>\n      <td>33.56547</td>\n    </tr>\n    <tr>\n      <th>4</th>\n      <td>Apollo16</td>\n      <td>92.46262</td>\n      <td>17.06352</td>\n    </tr>\n    <tr>\n      <th>5</th>\n      <td>Apollo17</td>\n      <td>109.44402</td>\n      <td>16.98140</td>\n    </tr>\n  </tbody>\n</table>\n</div>"
     },
     "metadata": {},
     "execution_count": 121
    }
   ],
   "source": [
    "missions['Weight Diff'] = missions['Weight Diff'].fillna(value=0)\n",
    "missions"
   ]
  },
  {
   "source": [
    "## Add in command and lunar module data\n",
    "\n",
    "By using the [NASA Space Science Data Coordinated Archive](https://nssdc.gsfc.nasa.gov/nmc/SpacecraftQuery.jsp), we gathered information about each module used in each mission. As you did when you created the samples tables, create six new columns, three for the lunar modules and three for the command modules:\n",
    "\n",
    "* Module Name\n",
    "* Module Mass\n",
    "* Module Mass Diff\n",
    "\n",
    "Fill in any NaN values with 0:"
   ],
   "cell_type": "markdown",
   "metadata": {}
  },
  {
   "cell_type": "code",
   "execution_count": 122,
   "metadata": {},
   "outputs": [
    {
     "output_type": "execute_result",
     "data": {
      "text/plain": [
       "    Mission  Sample Weight(Kg)  Weight Diff   Lunar Module (LM)  LM Mass (Kg)  \\\n",
       "0  Apollo11           21.55424      0.00000      Antares (LM-8)         15264   \n",
       "1  Apollo12           34.34238     12.78814        Eagle (LM-5)         15235   \n",
       "2  Apollo14           41.83363      7.49125     Interpid (LM-6)         16456   \n",
       "3  Apollo15           75.39910     33.56547       Orion (LM-11)         16430   \n",
       "4  Apollo16           92.46262     17.06352      Falcon (LM-10)         16445   \n",
       "5  Apollo17          109.44402     16.98140  Challenger (LM-12)         15103   \n",
       "\n",
       "   LM Mass Diff      Command Module (CM)  CM Mass (Kg)  CM Mass Diff  \n",
       "0           0.0        Command (CSM-107)          5960           0.0  \n",
       "1         -29.0          Casper (CM-113)          5609        -351.0  \n",
       "2        1221.0  Yankee Clipper (CM-108)          5840         231.0  \n",
       "3         -26.0        Endeavor (CM-112)          5875          35.0  \n",
       "4          15.0      Kitty Hawk (CM-110)          5560        -315.0  \n",
       "5       -1342.0         America (CM-114)          5758         198.0  "
      ],
      "text/html": "<div>\n<style scoped>\n    .dataframe tbody tr th:only-of-type {\n        vertical-align: middle;\n    }\n\n    .dataframe tbody tr th {\n        vertical-align: top;\n    }\n\n    .dataframe thead th {\n        text-align: right;\n    }\n</style>\n<table border=\"1\" class=\"dataframe\">\n  <thead>\n    <tr style=\"text-align: right;\">\n      <th></th>\n      <th>Mission</th>\n      <th>Sample Weight(Kg)</th>\n      <th>Weight Diff</th>\n      <th>Lunar Module (LM)</th>\n      <th>LM Mass (Kg)</th>\n      <th>LM Mass Diff</th>\n      <th>Command Module (CM)</th>\n      <th>CM Mass (Kg)</th>\n      <th>CM Mass Diff</th>\n    </tr>\n  </thead>\n  <tbody>\n    <tr>\n      <th>0</th>\n      <td>Apollo11</td>\n      <td>21.55424</td>\n      <td>0.00000</td>\n      <td>Antares (LM-8)</td>\n      <td>15264</td>\n      <td>0.0</td>\n      <td>Command (CSM-107)</td>\n      <td>5960</td>\n      <td>0.0</td>\n    </tr>\n    <tr>\n      <th>1</th>\n      <td>Apollo12</td>\n      <td>34.34238</td>\n      <td>12.78814</td>\n      <td>Eagle (LM-5)</td>\n      <td>15235</td>\n      <td>-29.0</td>\n      <td>Casper (CM-113)</td>\n      <td>5609</td>\n      <td>-351.0</td>\n    </tr>\n    <tr>\n      <th>2</th>\n      <td>Apollo14</td>\n      <td>41.83363</td>\n      <td>7.49125</td>\n      <td>Interpid (LM-6)</td>\n      <td>16456</td>\n      <td>1221.0</td>\n      <td>Yankee Clipper (CM-108)</td>\n      <td>5840</td>\n      <td>231.0</td>\n    </tr>\n    <tr>\n      <th>3</th>\n      <td>Apollo15</td>\n      <td>75.39910</td>\n      <td>33.56547</td>\n      <td>Orion (LM-11)</td>\n      <td>16430</td>\n      <td>-26.0</td>\n      <td>Endeavor (CM-112)</td>\n      <td>5875</td>\n      <td>35.0</td>\n    </tr>\n    <tr>\n      <th>4</th>\n      <td>Apollo16</td>\n      <td>92.46262</td>\n      <td>17.06352</td>\n      <td>Falcon (LM-10)</td>\n      <td>16445</td>\n      <td>15.0</td>\n      <td>Kitty Hawk (CM-110)</td>\n      <td>5560</td>\n      <td>-315.0</td>\n    </tr>\n    <tr>\n      <th>5</th>\n      <td>Apollo17</td>\n      <td>109.44402</td>\n      <td>16.98140</td>\n      <td>Challenger (LM-12)</td>\n      <td>15103</td>\n      <td>-1342.0</td>\n      <td>America (CM-114)</td>\n      <td>5758</td>\n      <td>198.0</td>\n    </tr>\n  </tbody>\n</table>\n</div>"
     },
     "metadata": {},
     "execution_count": 122
    }
   ],
   "source": [
    "\"\"\"\n",
    "    Lunar Modules (LM)\n",
    "\"\"\"\n",
    "missions['Lunar Module (LM)'] = {\n",
    "    'Eagle (LM-5)',\n",
    "    'Interpid (LM-6)',\n",
    "    'Antares (LM-8)',\n",
    "    'Falcon (LM-10)',\n",
    "    'Orion (LM-11)',\n",
    "    'Challenger (LM-12)'\n",
    "}\n",
    "\n",
    "missions['LM Mass (Kg)'] = {\n",
    "    15103, \n",
    "    15235,\n",
    "    15264,\n",
    "    16430,\n",
    "    16445,\n",
    "    16456\n",
    "}\n",
    "\n",
    "missions['LM Mass Diff'] = missions['LM Mass (Kg)'].diff().fillna(value=0)\n",
    "\n",
    "\"\"\"\n",
    "    Command Modules (CM)\n",
    "\"\"\"\n",
    "missions['Command Module (CM)'] = {\n",
    "    'Command (CSM-107)',\n",
    "    'Yankee Clipper (CM-108)',\n",
    "    'Kitty Hawk (CM-110)',\n",
    "    'Endeavor (CM-112)',\n",
    "    'Casper (CM-113)',\n",
    "    'America (CM-114)'\n",
    "}\n",
    "\n",
    "missions['CM Mass (Kg)'] = {\n",
    "    5560,\n",
    "    5609,\n",
    "    5758,\n",
    "    5875,\n",
    "    5840,\n",
    "    5960\n",
    "}\n",
    "\n",
    "missions['CM Mass Diff'] = missions['CM Mass (Kg)'].diff().fillna(value=0)\n",
    "\n",
    "\n",
    "missions"
   ]
  },
  {
   "source": [
    "## Adding Total Weight Columns"
   ],
   "cell_type": "markdown",
   "metadata": {}
  },
  {
   "cell_type": "code",
   "execution_count": 123,
   "metadata": {},
   "outputs": [
    {
     "output_type": "execute_result",
     "data": {
      "text/plain": [
       "    Mission  Sample Weight(Kg)  Weight Diff   Lunar Module (LM)  LM Mass (Kg)  \\\n",
       "0  Apollo11           21.55424      0.00000      Antares (LM-8)         15264   \n",
       "1  Apollo12           34.34238     12.78814        Eagle (LM-5)         15235   \n",
       "2  Apollo14           41.83363      7.49125     Interpid (LM-6)         16456   \n",
       "3  Apollo15           75.39910     33.56547       Orion (LM-11)         16430   \n",
       "4  Apollo16           92.46262     17.06352      Falcon (LM-10)         16445   \n",
       "5  Apollo17          109.44402     16.98140  Challenger (LM-12)         15103   \n",
       "\n",
       "   LM Mass Diff      Command Module (CM)  CM Mass (Kg)  CM Mass Diff  \\\n",
       "0           0.0        Command (CSM-107)          5960           0.0   \n",
       "1         -29.0          Casper (CM-113)          5609        -351.0   \n",
       "2        1221.0  Yankee Clipper (CM-108)          5840         231.0   \n",
       "3         -26.0        Endeavor (CM-112)          5875          35.0   \n",
       "4          15.0      Kitty Hawk (CM-110)          5560        -315.0   \n",
       "5       -1342.0         America (CM-114)          5758         198.0   \n",
       "\n",
       "   Total Weight (Kg)  Total Weight Diff  \n",
       "0              21224                0.0  \n",
       "1              20844             -380.0  \n",
       "2              22296             1452.0  \n",
       "3              22305                9.0  \n",
       "4              22005             -300.0  \n",
       "5              20861            -1144.0  "
      ],
      "text/html": "<div>\n<style scoped>\n    .dataframe tbody tr th:only-of-type {\n        vertical-align: middle;\n    }\n\n    .dataframe tbody tr th {\n        vertical-align: top;\n    }\n\n    .dataframe thead th {\n        text-align: right;\n    }\n</style>\n<table border=\"1\" class=\"dataframe\">\n  <thead>\n    <tr style=\"text-align: right;\">\n      <th></th>\n      <th>Mission</th>\n      <th>Sample Weight(Kg)</th>\n      <th>Weight Diff</th>\n      <th>Lunar Module (LM)</th>\n      <th>LM Mass (Kg)</th>\n      <th>LM Mass Diff</th>\n      <th>Command Module (CM)</th>\n      <th>CM Mass (Kg)</th>\n      <th>CM Mass Diff</th>\n      <th>Total Weight (Kg)</th>\n      <th>Total Weight Diff</th>\n    </tr>\n  </thead>\n  <tbody>\n    <tr>\n      <th>0</th>\n      <td>Apollo11</td>\n      <td>21.55424</td>\n      <td>0.00000</td>\n      <td>Antares (LM-8)</td>\n      <td>15264</td>\n      <td>0.0</td>\n      <td>Command (CSM-107)</td>\n      <td>5960</td>\n      <td>0.0</td>\n      <td>21224</td>\n      <td>0.0</td>\n    </tr>\n    <tr>\n      <th>1</th>\n      <td>Apollo12</td>\n      <td>34.34238</td>\n      <td>12.78814</td>\n      <td>Eagle (LM-5)</td>\n      <td>15235</td>\n      <td>-29.0</td>\n      <td>Casper (CM-113)</td>\n      <td>5609</td>\n      <td>-351.0</td>\n      <td>20844</td>\n      <td>-380.0</td>\n    </tr>\n    <tr>\n      <th>2</th>\n      <td>Apollo14</td>\n      <td>41.83363</td>\n      <td>7.49125</td>\n      <td>Interpid (LM-6)</td>\n      <td>16456</td>\n      <td>1221.0</td>\n      <td>Yankee Clipper (CM-108)</td>\n      <td>5840</td>\n      <td>231.0</td>\n      <td>22296</td>\n      <td>1452.0</td>\n    </tr>\n    <tr>\n      <th>3</th>\n      <td>Apollo15</td>\n      <td>75.39910</td>\n      <td>33.56547</td>\n      <td>Orion (LM-11)</td>\n      <td>16430</td>\n      <td>-26.0</td>\n      <td>Endeavor (CM-112)</td>\n      <td>5875</td>\n      <td>35.0</td>\n      <td>22305</td>\n      <td>9.0</td>\n    </tr>\n    <tr>\n      <th>4</th>\n      <td>Apollo16</td>\n      <td>92.46262</td>\n      <td>17.06352</td>\n      <td>Falcon (LM-10)</td>\n      <td>16445</td>\n      <td>15.0</td>\n      <td>Kitty Hawk (CM-110)</td>\n      <td>5560</td>\n      <td>-315.0</td>\n      <td>22005</td>\n      <td>-300.0</td>\n    </tr>\n    <tr>\n      <th>5</th>\n      <td>Apollo17</td>\n      <td>109.44402</td>\n      <td>16.98140</td>\n      <td>Challenger (LM-12)</td>\n      <td>15103</td>\n      <td>-1342.0</td>\n      <td>America (CM-114)</td>\n      <td>5758</td>\n      <td>198.0</td>\n      <td>20861</td>\n      <td>-1144.0</td>\n    </tr>\n  </tbody>\n</table>\n</div>"
     },
     "metadata": {},
     "execution_count": 123
    }
   ],
   "source": [
    "missions['Total Weight (Kg)'] = missions['LM Mass (Kg)'] + missions['CM Mass (Kg)']\n",
    "missions['Total Weight Diff'] = missions['LM Mass Diff'] + missions['CM Mass Diff']\n",
    "\n",
    "missions"
   ]
  },
  {
   "source": [
    "## Compare the Data\n",
    "The interesting thing about predicting how much sample each Artemis mission can bring back is that we don't yet know the full specs of the spacecraft that the Artemis plans on using. Using some information from the [NASA Factsheet on the Space Launch System (SLS) and Orion Modules](https://www.nasa.gov/sites/default/files/atoms/files/0080_sls_fact_sheet_sept2020_09082020_final_0.pdf), we have have data on weights and payloads.\n",
    "\n",
    "A payload is basically the total amount of weight that a rocket can get up through our atmosphere and into space. So the likelihood that the payload number is more accurate than the exact weights of each module is high, because deciding the payload will likely affect each of the other design decisions.\n",
    "\n",
    "We know that the Saturn V payload was 43,500 kg, and the weights of the modules varied from mission to mission. So, to determine the ratios that will allow us to make predictions about the Artemis missions, we can use:\n",
    "\n",
    "* Saturn V payload\n",
    "* Mission sample weight\n",
    "* Mission module weight\n"
   ],
   "cell_type": "markdown",
   "metadata": {}
  },
  {
   "cell_type": "code",
   "execution_count": 124,
   "metadata": {},
   "outputs": [
    {
     "output_type": "execute_result",
     "data": {
      "text/plain": [
       "    Mission  Sample Weight(Kg)  Weight Diff   Lunar Module (LM)  LM Mass (Kg)  \\\n",
       "0  Apollo11           21.55424      0.00000      Antares (LM-8)         15264   \n",
       "1  Apollo12           34.34238     12.78814        Eagle (LM-5)         15235   \n",
       "2  Apollo14           41.83363      7.49125     Interpid (LM-6)         16456   \n",
       "3  Apollo15           75.39910     33.56547       Orion (LM-11)         16430   \n",
       "4  Apollo16           92.46262     17.06352      Falcon (LM-10)         16445   \n",
       "5  Apollo17          109.44402     16.98140  Challenger (LM-12)         15103   \n",
       "\n",
       "   LM Mass Diff      Command Module (CM)  CM Mass (Kg)  CM Mass Diff  \\\n",
       "0           0.0        Command (CSM-107)          5960           0.0   \n",
       "1         -29.0          Casper (CM-113)          5609        -351.0   \n",
       "2        1221.0  Yankee Clipper (CM-108)          5840         231.0   \n",
       "3         -26.0        Endeavor (CM-112)          5875          35.0   \n",
       "4          15.0      Kitty Hawk (CM-110)          5560        -315.0   \n",
       "5       -1342.0         America (CM-114)          5758         198.0   \n",
       "\n",
       "   Total Weight (Kg)  Total Weight Diff  Crewed Area : Payload  \\\n",
       "0              21224                0.0               0.487908   \n",
       "1              20844             -380.0               0.479172   \n",
       "2              22296             1452.0               0.512552   \n",
       "3              22305                9.0               0.512759   \n",
       "4              22005             -300.0               0.505862   \n",
       "5              20861            -1144.0               0.479563   \n",
       "\n",
       "   Sample : Crewed Area  Sample : Payload  \n",
       "0              0.001016          0.000495  \n",
       "1              0.001648          0.000789  \n",
       "2              0.001876          0.000962  \n",
       "3              0.003380          0.001733  \n",
       "4              0.004202          0.002126  \n",
       "5              0.005246          0.002516  "
      ],
      "text/html": "<div>\n<style scoped>\n    .dataframe tbody tr th:only-of-type {\n        vertical-align: middle;\n    }\n\n    .dataframe tbody tr th {\n        vertical-align: top;\n    }\n\n    .dataframe thead th {\n        text-align: right;\n    }\n</style>\n<table border=\"1\" class=\"dataframe\">\n  <thead>\n    <tr style=\"text-align: right;\">\n      <th></th>\n      <th>Mission</th>\n      <th>Sample Weight(Kg)</th>\n      <th>Weight Diff</th>\n      <th>Lunar Module (LM)</th>\n      <th>LM Mass (Kg)</th>\n      <th>LM Mass Diff</th>\n      <th>Command Module (CM)</th>\n      <th>CM Mass (Kg)</th>\n      <th>CM Mass Diff</th>\n      <th>Total Weight (Kg)</th>\n      <th>Total Weight Diff</th>\n      <th>Crewed Area : Payload</th>\n      <th>Sample : Crewed Area</th>\n      <th>Sample : Payload</th>\n    </tr>\n  </thead>\n  <tbody>\n    <tr>\n      <th>0</th>\n      <td>Apollo11</td>\n      <td>21.55424</td>\n      <td>0.00000</td>\n      <td>Antares (LM-8)</td>\n      <td>15264</td>\n      <td>0.0</td>\n      <td>Command (CSM-107)</td>\n      <td>5960</td>\n      <td>0.0</td>\n      <td>21224</td>\n      <td>0.0</td>\n      <td>0.487908</td>\n      <td>0.001016</td>\n      <td>0.000495</td>\n    </tr>\n    <tr>\n      <th>1</th>\n      <td>Apollo12</td>\n      <td>34.34238</td>\n      <td>12.78814</td>\n      <td>Eagle (LM-5)</td>\n      <td>15235</td>\n      <td>-29.0</td>\n      <td>Casper (CM-113)</td>\n      <td>5609</td>\n      <td>-351.0</td>\n      <td>20844</td>\n      <td>-380.0</td>\n      <td>0.479172</td>\n      <td>0.001648</td>\n      <td>0.000789</td>\n    </tr>\n    <tr>\n      <th>2</th>\n      <td>Apollo14</td>\n      <td>41.83363</td>\n      <td>7.49125</td>\n      <td>Interpid (LM-6)</td>\n      <td>16456</td>\n      <td>1221.0</td>\n      <td>Yankee Clipper (CM-108)</td>\n      <td>5840</td>\n      <td>231.0</td>\n      <td>22296</td>\n      <td>1452.0</td>\n      <td>0.512552</td>\n      <td>0.001876</td>\n      <td>0.000962</td>\n    </tr>\n    <tr>\n      <th>3</th>\n      <td>Apollo15</td>\n      <td>75.39910</td>\n      <td>33.56547</td>\n      <td>Orion (LM-11)</td>\n      <td>16430</td>\n      <td>-26.0</td>\n      <td>Endeavor (CM-112)</td>\n      <td>5875</td>\n      <td>35.0</td>\n      <td>22305</td>\n      <td>9.0</td>\n      <td>0.512759</td>\n      <td>0.003380</td>\n      <td>0.001733</td>\n    </tr>\n    <tr>\n      <th>4</th>\n      <td>Apollo16</td>\n      <td>92.46262</td>\n      <td>17.06352</td>\n      <td>Falcon (LM-10)</td>\n      <td>16445</td>\n      <td>15.0</td>\n      <td>Kitty Hawk (CM-110)</td>\n      <td>5560</td>\n      <td>-315.0</td>\n      <td>22005</td>\n      <td>-300.0</td>\n      <td>0.505862</td>\n      <td>0.004202</td>\n      <td>0.002126</td>\n    </tr>\n    <tr>\n      <th>5</th>\n      <td>Apollo17</td>\n      <td>109.44402</td>\n      <td>16.98140</td>\n      <td>Challenger (LM-12)</td>\n      <td>15103</td>\n      <td>-1342.0</td>\n      <td>America (CM-114)</td>\n      <td>5758</td>\n      <td>198.0</td>\n      <td>20861</td>\n      <td>-1144.0</td>\n      <td>0.479563</td>\n      <td>0.005246</td>\n      <td>0.002516</td>\n    </tr>\n  </tbody>\n</table>\n</div>"
     },
     "metadata": {},
     "execution_count": 124
    }
   ],
   "source": [
    "\"\"\"\n",
    "    Sample to Weight Ratio\n",
    "\"\"\"\n",
    "saturnVPayload = 43500\n",
    "missions['Crewed Area : Payload'] = missions['Total Weight (Kg)'] / saturnVPayload\n",
    "missions['Sample : Crewed Area']  = missions['Sample Weight(Kg)'] / missions['Total Weight (Kg)']\n",
    "missions['Sample : Payload']      = missions['Sample Weight(Kg)'] / saturnVPayload\n",
    "\n",
    "missions"
   ]
  },
  {
   "cell_type": "code",
   "execution_count": null,
   "metadata": {},
   "outputs": [],
   "source": []
  }
 ]
}